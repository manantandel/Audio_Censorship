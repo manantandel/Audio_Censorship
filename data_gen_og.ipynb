{
 "cells": [
  {
   "cell_type": "code",
   "execution_count": 52,
   "metadata": {},
   "outputs": [],
   "source": [
    "from gtts import gTTS\n",
    "from langdetect import detect"
   ]
  },
  {
   "cell_type": "code",
   "execution_count": 11,
   "metadata": {},
   "outputs": [],
   "source": [
    "line_list = [\"Mujhe thoda paani chahiye.\",\n",
    "            \"Tumhara kaam ma chudae\" ]"
   ]
  },
  {
   "cell_type": "code",
   "execution_count": 31,
   "metadata": {},
   "outputs": [],
   "source": [
    "line_list = [\"नमस्ते, यह हिंदी टेक्स्ट टू स्पीच डेमो है।\", \n",
    "            \"तुम बहुत चुटिया हो।\", \"तेरी रंडी माँ की चूत\"]"
   ]
  },
  {
   "cell_type": "code",
   "execution_count": 68,
   "metadata": {},
   "outputs": [],
   "source": [
    "audio_number = 1\n",
    "for lines in l2:\n",
    "    text = lines\n",
    "    tts = gTTS(text=text, lang='hi')\n",
    "    tts.save(f\"Audio_Data2/Audio_{audio_number}.mp3\")\n",
    "    audio_number += 1"
   ]
  },
  {
   "cell_type": "code",
   "execution_count": 45,
   "metadata": {},
   "outputs": [],
   "source": [
    "data = pd.read_csv(\"try.csv\")\n",
    "line_list = data['Filtered Sentences'].to_list()"
   ]
  },
  {
   "cell_type": "code",
   "execution_count": 62,
   "metadata": {},
   "outputs": [],
   "source": [
    "x = data['Filtered Sentences'].to_list()"
   ]
  },
  {
   "cell_type": "code",
   "execution_count": 63,
   "metadata": {},
   "outputs": [
    {
     "data": {
      "text/html": [
       "<div>\n",
       "<style scoped>\n",
       "    .dataframe tbody tr th:only-of-type {\n",
       "        vertical-align: middle;\n",
       "    }\n",
       "\n",
       "    .dataframe tbody tr th {\n",
       "        vertical-align: top;\n",
       "    }\n",
       "\n",
       "    .dataframe thead th {\n",
       "        text-align: right;\n",
       "    }\n",
       "</style>\n",
       "<table border=\"1\" class=\"dataframe\">\n",
       "  <thead>\n",
       "    <tr style=\"text-align: right;\">\n",
       "      <th></th>\n",
       "      <th>Filtered Sentences</th>\n",
       "    </tr>\n",
       "  </thead>\n",
       "  <tbody>\n",
       "    <tr>\n",
       "      <th>1186</th>\n",
       "      <td>इस्लाम में किसी के भी साथ सेक्स और हलाला जाय...</td>\n",
       "    </tr>\n",
       "    <tr>\n",
       "      <th>1187</th>\n",
       "      <td>ानवमल मिलाकर खाना परोसने वाले मोहम्मद्दुलबासित...</td>\n",
       "    </tr>\n",
       "    <tr>\n",
       "      <th>1188</th>\n",
       "      <td>संघी ब्रांड…गाँधी जी के पुतले पर गोली चलाने वा...</td>\n",
       "    </tr>\n",
       "    <tr>\n",
       "      <th>1189</th>\n",
       "      <td>के फोन से जो व्हाट्सएप चैट के मैसेजेस निकले है...</td>\n",
       "    </tr>\n",
       "    <tr>\n",
       "      <th>1190</th>\n",
       "      <td>बंगाल में हिन्दू मरे हैं इसलिए मुझे कोई फर्क न...</td>\n",
       "    </tr>\n",
       "  </tbody>\n",
       "</table>\n",
       "</div>"
      ],
      "text/plain": [
       "                                     Filtered Sentences\n",
       "1186    इस्लाम में किसी के भी साथ सेक्स और हलाला जाय...\n",
       "1187  ानवमल मिलाकर खाना परोसने वाले मोहम्मद्दुलबासित...\n",
       "1188  संघी ब्रांड…गाँधी जी के पुतले पर गोली चलाने वा...\n",
       "1189  के फोन से जो व्हाट्सएप चैट के मैसेजेस निकले है...\n",
       "1190  बंगाल में हिन्दू मरे हैं इसलिए मुझे कोई फर्क न..."
      ]
     },
     "execution_count": 63,
     "metadata": {},
     "output_type": "execute_result"
    }
   ],
   "source": [
    "filtered_data = [sentence for sentence in x if any(bad_word in sentence for bad_word in bad_words)]\n",
    "df_filtered = pd.DataFrame(filtered_data, columns=[\"Filtered Sentences\"])\n",
    "df_filtered.tail()"
   ]
  },
  {
   "cell_type": "code",
   "execution_count": 64,
   "metadata": {},
   "outputs": [],
   "source": [
    "final_list = df_filtered['Filtered Sentences'].to_list()"
   ]
  },
  {
   "cell_type": "code",
   "execution_count": 70,
   "metadata": {},
   "outputs": [],
   "source": [
    "l2 = final_list"
   ]
  },
  {
   "cell_type": "code",
   "execution_count": 71,
   "metadata": {},
   "outputs": [],
   "source": [
    "import pyttsx3\n",
    "\n",
    "engine = pyttsx3.init()\n",
    "\n",
    "voices = engine.getProperty('voices')\n",
    "    \n",
    "engine.setProperty('rate', 250) \n",
    "engine.setProperty('volume', 1)\n",
    "engine.setProperty('voice', voices[1].id)\n",
    "\n",
    "audio_number = 1\n",
    "for lines in l2:\n",
    "    text = lines\n",
    "    engine.save_to_file(text, f\"Audio_Data/Audio_{audio_number}.mp3\")\n",
    "    engine.runAndWait()\n",
    "    audio_number += 1"
   ]
  },
  {
   "cell_type": "code",
   "execution_count": 1,
   "metadata": {},
   "outputs": [],
   "source": [
    "import pandas as pd"
   ]
  },
  {
   "cell_type": "code",
   "execution_count": 2,
   "metadata": {},
   "outputs": [
    {
     "data": {
      "text/html": [
       "<div>\n",
       "<style scoped>\n",
       "    .dataframe tbody tr th:only-of-type {\n",
       "        vertical-align: middle;\n",
       "    }\n",
       "\n",
       "    .dataframe tbody tr th {\n",
       "        vertical-align: top;\n",
       "    }\n",
       "\n",
       "    .dataframe thead th {\n",
       "        text-align: right;\n",
       "    }\n",
       "</style>\n",
       "<table border=\"1\" class=\"dataframe\">\n",
       "  <thead>\n",
       "    <tr style=\"text-align: right;\">\n",
       "      <th></th>\n",
       "      <th>Transliteration</th>\n",
       "      <th>Devanagari</th>\n",
       "      <th>English Translation</th>\n",
       "    </tr>\n",
       "  </thead>\n",
       "  <tbody>\n",
       "    <tr>\n",
       "      <th>0</th>\n",
       "      <td>aad</td>\n",
       "      <td>आंड़</td>\n",
       "      <td>testicles</td>\n",
       "    </tr>\n",
       "    <tr>\n",
       "      <th>1</th>\n",
       "      <td>aand</td>\n",
       "      <td>आंड</td>\n",
       "      <td>testicles</td>\n",
       "    </tr>\n",
       "    <tr>\n",
       "      <th>2</th>\n",
       "      <td>bahenchod</td>\n",
       "      <td>बहनचोद</td>\n",
       "      <td>sisterfucker</td>\n",
       "    </tr>\n",
       "    <tr>\n",
       "      <th>3</th>\n",
       "      <td>behenchod</td>\n",
       "      <td>बेहेनचोद</td>\n",
       "      <td>sisterfucker</td>\n",
       "    </tr>\n",
       "    <tr>\n",
       "      <th>4</th>\n",
       "      <td>bahen ka lauda</td>\n",
       "      <td>बेहेन्का लौडा</td>\n",
       "      <td>sister's cock</td>\n",
       "    </tr>\n",
       "  </tbody>\n",
       "</table>\n",
       "</div>"
      ],
      "text/plain": [
       "  Transliteration     Devanagari English Translation\n",
       "0             aad           आंड़           testicles\n",
       "1            aand            आंड           testicles\n",
       "2       bahenchod         बहनचोद        sisterfucker\n",
       "3       behenchod       बेहेनचोद        sisterfucker\n",
       "4  bahen ka lauda  बेहेन्का लौडा       sister's cock"
      ]
     },
     "execution_count": 2,
     "metadata": {},
     "output_type": "execute_result"
    }
   ],
   "source": [
    "bad_words = pd.read_csv(\"BadWordList.csv\")\n",
    "bad_words.head()"
   ]
  },
  {
   "cell_type": "code",
   "execution_count": 3,
   "metadata": {},
   "outputs": [],
   "source": [
    "bad_word_list = []\n",
    "hindi_list = bad_words.Devanagari.to_list()\n",
    "hinglish_list = bad_words.Transliteration.to_list()"
   ]
  },
  {
   "cell_type": "code",
   "execution_count": 7,
   "metadata": {},
   "outputs": [],
   "source": [
    "bad_word_list.extend(hinglish_list)"
   ]
  },
  {
   "cell_type": "code",
   "execution_count": 11,
   "metadata": {},
   "outputs": [],
   "source": [
    "df = pd.read_csv(\"Hatespeech-Hindi_Train.csv\")\n",
    "data = df['Post'].to_list()"
   ]
  },
  {
   "cell_type": "code",
   "execution_count": 55,
   "metadata": {},
   "outputs": [],
   "source": [
    "bad_words = bad_word_list"
   ]
  },
  {
   "cell_type": "code",
   "execution_count": 19,
   "metadata": {},
   "outputs": [
    {
     "data": {
      "text/html": [
       "<div>\n",
       "<style scoped>\n",
       "    .dataframe tbody tr th:only-of-type {\n",
       "        vertical-align: middle;\n",
       "    }\n",
       "\n",
       "    .dataframe tbody tr th {\n",
       "        vertical-align: top;\n",
       "    }\n",
       "\n",
       "    .dataframe thead th {\n",
       "        text-align: right;\n",
       "    }\n",
       "</style>\n",
       "<table border=\"1\" class=\"dataframe\">\n",
       "  <thead>\n",
       "    <tr style=\"text-align: right;\">\n",
       "      <th></th>\n",
       "      <th>Filtered Sentences</th>\n",
       "    </tr>\n",
       "  </thead>\n",
       "  <tbody>\n",
       "    <tr>\n",
       "      <th>1249</th>\n",
       "      <td>@MishraBRIJESH13 @KumarPa59043369 इस्लाम में क...</td>\n",
       "    </tr>\n",
       "    <tr>\n",
       "      <th>1250</th>\n",
       "      <td>#मानव_मल मिलाकर खाना परोसने वाले मोहम्मद #अब्द...</td>\n",
       "    </tr>\n",
       "    <tr>\n",
       "      <th>1251</th>\n",
       "      <td>संघी ब्रांड…गाँधी जी के पुतले पर गोली चलाने वा...</td>\n",
       "    </tr>\n",
       "    <tr>\n",
       "      <th>1252</th>\n",
       "      <td>#RheaChakraborty के फोन से जो व्हाट्सएप चैट के...</td>\n",
       "    </tr>\n",
       "    <tr>\n",
       "      <th>1253</th>\n",
       "      <td>बंगाल में हिन्दू मरे हैं इसलिए मुझे कोई फर्क न...</td>\n",
       "    </tr>\n",
       "  </tbody>\n",
       "</table>\n",
       "</div>"
      ],
      "text/plain": [
       "                                     Filtered Sentences\n",
       "1249  @MishraBRIJESH13 @KumarPa59043369 इस्लाम में क...\n",
       "1250  #मानव_मल मिलाकर खाना परोसने वाले मोहम्मद #अब्द...\n",
       "1251  संघी ब्रांड…गाँधी जी के पुतले पर गोली चलाने वा...\n",
       "1252  #RheaChakraborty के फोन से जो व्हाट्सएप चैट के...\n",
       "1253  बंगाल में हिन्दू मरे हैं इसलिए मुझे कोई फर्क न..."
      ]
     },
     "execution_count": 19,
     "metadata": {},
     "output_type": "execute_result"
    }
   ],
   "source": [
    "filtered_data = [sentence for sentence in data if any(bad_word in sentence for bad_word in bad_words)]\n",
    "df_filtered = pd.DataFrame(filtered_data, columns=[\"Filtered Sentences\"])\n",
    "df_filtered.tail()"
   ]
  },
  {
   "cell_type": "code",
   "execution_count": 13,
   "metadata": {},
   "outputs": [],
   "source": [
    "import re\n",
    "bad_words_pattern = '|'.join(re.escape(word) for word in bad_words)\n",
    "filtered_data_regex = [sentence for sentence in data if re.search(bad_words_pattern, sentence)]\n",
    "\n",
    "for sentence in filtered_data_regex:\n",
    "    print(sentence)"
   ]
  },
  {
   "cell_type": "code",
   "execution_count": 36,
   "metadata": {},
   "outputs": [
    {
     "data": {
      "text/html": [
       "<div>\n",
       "<style scoped>\n",
       "    .dataframe tbody tr th:only-of-type {\n",
       "        vertical-align: middle;\n",
       "    }\n",
       "\n",
       "    .dataframe tbody tr th {\n",
       "        vertical-align: top;\n",
       "    }\n",
       "\n",
       "    .dataframe thead th {\n",
       "        text-align: right;\n",
       "    }\n",
       "</style>\n",
       "<table border=\"1\" class=\"dataframe\">\n",
       "  <thead>\n",
       "    <tr style=\"text-align: right;\">\n",
       "      <th></th>\n",
       "      <th>Unnamed: 0</th>\n",
       "      <th>Filtered Sentences</th>\n",
       "    </tr>\n",
       "  </thead>\n",
       "  <tbody>\n",
       "    <tr>\n",
       "      <th>0</th>\n",
       "      <td>0</td>\n",
       "      <td>#unlock4guidelines - अनलॉक-4 के लिए गाइडलाइन्स...</td>\n",
       "    </tr>\n",
       "    <tr>\n",
       "      <th>1</th>\n",
       "      <td>1</td>\n",
       "      <td>चीन ने UN में तर्क दिया की भारत का विपक्ष ही अ...</td>\n",
       "    </tr>\n",
       "    <tr>\n",
       "      <th>2</th>\n",
       "      <td>2</td>\n",
       "      <td>बियर ग्रिल्स के साथ खतरनाक जंगलों में दिखेंगे ...</td>\n",
       "    </tr>\n",
       "    <tr>\n",
       "      <th>3</th>\n",
       "      <td>3</td>\n",
       "      <td>पूर्व प्रधानमंत्री डॉ. मनमोहन सिंह ने 10 राजाज...</td>\n",
       "    </tr>\n",
       "    <tr>\n",
       "      <th>4</th>\n",
       "      <td>4</td>\n",
       "      <td>कुत्ते में भी एकता होती है विचारों में विरोध ह...</td>\n",
       "    </tr>\n",
       "  </tbody>\n",
       "</table>\n",
       "</div>"
      ],
      "text/plain": [
       "   Unnamed: 0                                 Filtered Sentences\n",
       "0           0  #unlock4guidelines - अनलॉक-4 के लिए गाइडलाइन्स...\n",
       "1           1  चीन ने UN में तर्क दिया की भारत का विपक्ष ही अ...\n",
       "2           2  बियर ग्रिल्स के साथ खतरनाक जंगलों में दिखेंगे ...\n",
       "3           3  पूर्व प्रधानमंत्री डॉ. मनमोहन सिंह ने 10 राजाज...\n",
       "4           4  कुत्ते में भी एकता होती है विचारों में विरोध ह..."
      ]
     },
     "execution_count": 36,
     "metadata": {},
     "output_type": "execute_result"
    }
   ],
   "source": [
    "data = pd.read_csv(\"data.csv\")\n",
    "data.head()"
   ]
  },
  {
   "cell_type": "code",
   "execution_count": 37,
   "metadata": {},
   "outputs": [],
   "source": [
    "data['Filtered Sentences'] = data['Filtered Sentences'].str.lower()\n",
    "data['Filtered Sentences'] = data['Filtered Sentences'].str.replace('\\n', '', regex=True)\n",
    "data['Filtered Sentences'] = data['Filtered Sentences'].str.replace('\\[.*?\\]', '', regex=True)\n",
    "data['Filtered Sentences'] = data['Filtered Sentences'].str.strip()\n",
    "data['Filtered Sentences'] = data['Filtered Sentences'].str.replace('@\\w+', '', regex=True)\n",
    "data['Filtered Sentences'] = data['Filtered Sentences'].str.replace('<.*?>', '', regex=True)\n",
    "data['Filtered Sentences'] = data['Filtered Sentences'].str.replace('http://\\S+|https://\\S+', '', regex=True)\n",
    "data['Filtered Sentences'] = data['Filtered Sentences'].str.replace('\\[.*?\\]', '',regex=True)\n",
    "data['Filtered Sentences'] = data['Filtered Sentences'].str.replace('\\n', '', regex=True)\n",
    "data['Filtered Sentences'] = data['Filtered Sentences'].str.replace(r'\\s*#\\w+\\s*', '', regex=True)\n",
    "data['Filtered Sentences'] = data['Filtered Sentences'].str.replace(r'\\b[a-zA-Z]+\\b', '', regex=True)"
   ]
  },
  {
   "cell_type": "code",
   "execution_count": 38,
   "metadata": {},
   "outputs": [
    {
     "data": {
      "text/html": [
       "<div>\n",
       "<style scoped>\n",
       "    .dataframe tbody tr th:only-of-type {\n",
       "        vertical-align: middle;\n",
       "    }\n",
       "\n",
       "    .dataframe tbody tr th {\n",
       "        vertical-align: top;\n",
       "    }\n",
       "\n",
       "    .dataframe thead th {\n",
       "        text-align: right;\n",
       "    }\n",
       "</style>\n",
       "<table border=\"1\" class=\"dataframe\">\n",
       "  <thead>\n",
       "    <tr style=\"text-align: right;\">\n",
       "      <th></th>\n",
       "      <th>Unnamed: 0</th>\n",
       "      <th>Filtered Sentences</th>\n",
       "    </tr>\n",
       "  </thead>\n",
       "  <tbody>\n",
       "    <tr>\n",
       "      <th>0</th>\n",
       "      <td>0</td>\n",
       "      <td>- अनलॉक-4 के लिए गाइडलाइन्स जारी- 7 सितंबर से ...</td>\n",
       "    </tr>\n",
       "    <tr>\n",
       "      <th>1</th>\n",
       "      <td>1</td>\n",
       "      <td>चीन ने  में तर्क दिया की भारत का विपक्ष ही अजर...</td>\n",
       "    </tr>\n",
       "    <tr>\n",
       "      <th>2</th>\n",
       "      <td>2</td>\n",
       "      <td>बियर ग्रिल्स के साथ खतरनाक जंगलों में दिखेंगे ...</td>\n",
       "    </tr>\n",
       "    <tr>\n",
       "      <th>3</th>\n",
       "      <td>3</td>\n",
       "      <td>पूर्व प्रधानमंत्री डॉ. मनमोहन सिंह ने 10 राजाज...</td>\n",
       "    </tr>\n",
       "    <tr>\n",
       "      <th>4</th>\n",
       "      <td>4</td>\n",
       "      <td>कुत्ते में भी एकता होती है विचारों में विरोध ह...</td>\n",
       "    </tr>\n",
       "  </tbody>\n",
       "</table>\n",
       "</div>"
      ],
      "text/plain": [
       "   Unnamed: 0                                 Filtered Sentences\n",
       "0           0  - अनलॉक-4 के लिए गाइडलाइन्स जारी- 7 सितंबर से ...\n",
       "1           1  चीन ने  में तर्क दिया की भारत का विपक्ष ही अजर...\n",
       "2           2  बियर ग्रिल्स के साथ खतरनाक जंगलों में दिखेंगे ...\n",
       "3           3  पूर्व प्रधानमंत्री डॉ. मनमोहन सिंह ने 10 राजाज...\n",
       "4           4  कुत्ते में भी एकता होती है विचारों में विरोध ह..."
      ]
     },
     "execution_count": 38,
     "metadata": {},
     "output_type": "execute_result"
    }
   ],
   "source": [
    "data.head()"
   ]
  },
  {
   "cell_type": "code",
   "execution_count": 42,
   "metadata": {},
   "outputs": [
    {
     "data": {
      "text/html": [
       "<div>\n",
       "<style scoped>\n",
       "    .dataframe tbody tr th:only-of-type {\n",
       "        vertical-align: middle;\n",
       "    }\n",
       "\n",
       "    .dataframe tbody tr th {\n",
       "        vertical-align: top;\n",
       "    }\n",
       "\n",
       "    .dataframe thead th {\n",
       "        text-align: right;\n",
       "    }\n",
       "</style>\n",
       "<table border=\"1\" class=\"dataframe\">\n",
       "  <thead>\n",
       "    <tr style=\"text-align: right;\">\n",
       "      <th></th>\n",
       "      <th>Unnamed: 0</th>\n",
       "      <th>Filtered Sentences</th>\n",
       "    </tr>\n",
       "  </thead>\n",
       "  <tbody>\n",
       "    <tr>\n",
       "      <th>0</th>\n",
       "      <td>0</td>\n",
       "      <td>अनलॉक4 के लिए गाइडलाइन्स जारी 7 सितंबर से देश...</td>\n",
       "    </tr>\n",
       "    <tr>\n",
       "      <th>1</th>\n",
       "      <td>1</td>\n",
       "      <td>चीन ने  में तर्क दिया की भारत का विपक्ष ही अजर...</td>\n",
       "    </tr>\n",
       "    <tr>\n",
       "      <th>2</th>\n",
       "      <td>2</td>\n",
       "      <td>बियर ग्रिल्स के साथ खतरनाक जंगलों में दिखेंगे ...</td>\n",
       "    </tr>\n",
       "    <tr>\n",
       "      <th>3</th>\n",
       "      <td>3</td>\n",
       "      <td>पूर्व प्रधानमंत्री डॉ मनमोहन सिंह ने 10 राजाजी...</td>\n",
       "    </tr>\n",
       "    <tr>\n",
       "      <th>4</th>\n",
       "      <td>4</td>\n",
       "      <td>कुत्ते में भी एकता होती है विचारों में विरोध ह...</td>\n",
       "    </tr>\n",
       "  </tbody>\n",
       "</table>\n",
       "</div>"
      ],
      "text/plain": [
       "   Unnamed: 0                                 Filtered Sentences\n",
       "0           0   अनलॉक4 के लिए गाइडलाइन्स जारी 7 सितंबर से देश...\n",
       "1           1  चीन ने  में तर्क दिया की भारत का विपक्ष ही अजर...\n",
       "2           2  बियर ग्रिल्स के साथ खतरनाक जंगलों में दिखेंगे ...\n",
       "3           3  पूर्व प्रधानमंत्री डॉ मनमोहन सिंह ने 10 राजाजी...\n",
       "4           4  कुत्ते में भी एकता होती है विचारों में विरोध ह..."
      ]
     },
     "execution_count": 42,
     "metadata": {},
     "output_type": "execute_result"
    }
   ],
   "source": [
    "def remove_emoji(text):\n",
    "    emoji_pattern = re.compile(\"[\\U0001F600-\\U0001F64F\"  # emoticons\n",
    "                             \"\\U0001F300-\\U0001F5FF\"  # symbols & pictographs\n",
    "                             \"\\U0001F680-\\U0001F6FF\"  # transport & map symbols\n",
    "                             \"\\U0001F700-\\U0001F77F\"  # alchemical symbols\n",
    "                             \"\\U0001F780-\\U0001F7FF\"  # Geometric Shapes Extended\n",
    "                             \"\\U0001F800-\\U0001F8FF\"  # Supplemental Arrows-C\n",
    "                             \"\\U0001F900-\\U0001F9FF\"  # Supplemental Emoji\n",
    "                             \"\\U0001FA00-\\U0001FA6F\"  # Chess Symbols\n",
    "                             \"\\U00002702-\\U000027B0\"  # Miscellaneous Symbols\n",
    "                             \"]+\", flags=re.UNICODE)\n",
    "    text = emoji_pattern.sub(r'',text)\n",
    "    return text\n",
    "\n",
    "data['Filtered Sentences'] = data['Filtered Sentences'].apply(remove_emoji)\n",
    "data.head()\n"
   ]
  },
  {
   "cell_type": "code",
   "execution_count": 40,
   "metadata": {},
   "outputs": [
    {
     "data": {
      "text/html": [
       "<div>\n",
       "<style scoped>\n",
       "    .dataframe tbody tr th:only-of-type {\n",
       "        vertical-align: middle;\n",
       "    }\n",
       "\n",
       "    .dataframe tbody tr th {\n",
       "        vertical-align: top;\n",
       "    }\n",
       "\n",
       "    .dataframe thead th {\n",
       "        text-align: right;\n",
       "    }\n",
       "</style>\n",
       "<table border=\"1\" class=\"dataframe\">\n",
       "  <thead>\n",
       "    <tr style=\"text-align: right;\">\n",
       "      <th></th>\n",
       "      <th>Unnamed: 0</th>\n",
       "      <th>Filtered Sentences</th>\n",
       "    </tr>\n",
       "  </thead>\n",
       "  <tbody>\n",
       "    <tr>\n",
       "      <th>0</th>\n",
       "      <td>0</td>\n",
       "      <td>अनलॉक4 के लिए गाइडलाइन्स जारी 7 सितंबर से देश...</td>\n",
       "    </tr>\n",
       "    <tr>\n",
       "      <th>1</th>\n",
       "      <td>1</td>\n",
       "      <td>चीन ने  में तर्क दिया की भारत का विपक्ष ही अजर...</td>\n",
       "    </tr>\n",
       "    <tr>\n",
       "      <th>2</th>\n",
       "      <td>2</td>\n",
       "      <td>बियर ग्रिल्स के साथ खतरनाक जंगलों में दिखेंगे ...</td>\n",
       "    </tr>\n",
       "    <tr>\n",
       "      <th>3</th>\n",
       "      <td>3</td>\n",
       "      <td>पूर्व प्रधानमंत्री डॉ मनमोहन सिंह ने 10 राजाजी...</td>\n",
       "    </tr>\n",
       "    <tr>\n",
       "      <th>4</th>\n",
       "      <td>4</td>\n",
       "      <td>कुत्ते में भी एकता होती है विचारों में विरोध ह...</td>\n",
       "    </tr>\n",
       "  </tbody>\n",
       "</table>\n",
       "</div>"
      ],
      "text/plain": [
       "   Unnamed: 0                                 Filtered Sentences\n",
       "0           0   अनलॉक4 के लिए गाइडलाइन्स जारी 7 सितंबर से देश...\n",
       "1           1  चीन ने  में तर्क दिया की भारत का विपक्ष ही अजर...\n",
       "2           2  बियर ग्रिल्स के साथ खतरनाक जंगलों में दिखेंगे ...\n",
       "3           3  पूर्व प्रधानमंत्री डॉ मनमोहन सिंह ने 10 राजाजी...\n",
       "4           4  कुत्ते में भी एकता होती है विचारों में विरोध ह..."
      ]
     },
     "execution_count": 40,
     "metadata": {},
     "output_type": "execute_result"
    }
   ],
   "source": [
    "import string\n",
    "def remove_punctuation(text):\n",
    "  punct = string.punctuation\n",
    "  punct = punct.replace(\"'\",\"\")\n",
    "  text = text.translate(str.maketrans(\"\", \"\",punct))\n",
    "  return text\n",
    "\n",
    "\n",
    "data['Filtered Sentences'] = data['Filtered Sentences'].apply(remove_punctuation)\n",
    "data.head()\n"
   ]
  },
  {
   "cell_type": "code",
   "execution_count": 43,
   "metadata": {},
   "outputs": [],
   "source": [
    "data.to_csv(\"try.csv\")"
   ]
  },
  {
   "cell_type": "code",
   "execution_count": 2,
   "metadata": {},
   "outputs": [],
   "source": [
    "import pandas as pd\n",
    "df = pd.read_csv(\"BadWordList.csv\")"
   ]
  },
  {
   "cell_type": "code",
   "execution_count": 27,
   "metadata": {},
   "outputs": [],
   "source": [
    "data = {\n",
    "    \"Original Word\": [\n",
    "        \"baap ke lavde\", \"chodu\", \"chodoo\", \"choodu\", \"gandu\", \"gaandu\", \"gandoo\", \n",
    "        \"bhosad\", \"bhosada\", \"bhosadaa\", \"bhosadaaa\", \"bhosadii\", \"bhosadika\", \n",
    "        \"bhosadike\", \"bhosadiki\", \"bosadike\", \"bakrichod\", \"balatkaar\", \"behen ke laude\", \n",
    "        \"betichod\", \"bhai chhod\", \"bhayee chod\", \"bhen chhod\", \"bhaynchod\", \"behanchod\", \n",
    "        \"behenchod\", \"bhen ke lode\", \"bhosdi\", \"bhosdike\", \"chipkai ki choot ke paseene\", \n",
    "        \"cha cha chod\", \"chod ke bal ka kida\", \"chopre he randi\", \"chudasi\", \"chut ka maindak\", \n",
    "        \"chutia\", \"chutia\", \"chootia\", \"chutiye\", \"dheeli choot\", \"choot\", \"chootiya\", \n",
    "        \"gaand chaat mera\", \"gaand\", \"gaand ka khadda\", \"gaand ke dhakan\", \"gaand mein kida\", \n",
    "        \"gandi chut mein sadta hua ganda kida\", \"gandmasti\", \"jhaat ke baal\", \"jhat lahergaya\", \n",
    "        \"jhatoo\", \"jhantu\", \"kukarchod\", \"kutha sala\", \"kuthta buraanahe kandaa nahi pattaahe\", \n",
    "        \"lode jesi shakal ke\", \"lode ke baal\", \"lund khajoor\", \"lund chuse\", \"lund\", \n",
    "        \"lundh\", \"lundh\", \"madar chod\", \"maadarchod\", \"maadar\", \"madar\", \"chod\", \n",
    "        \"madarchod\", \"madarchod ke aulaad\", \"mader chod\", \"mai chod\", \"mera mume le\", \n",
    "        \"mere fudi kha ley\", \"meri ghand ka baal\", \"randi\", \"randi ka choda\", \"suzit\", \n",
    "        \"sust lund ki padaish\", \"tatti ander lele\", \"tere baap ki gaand\", \"teri chute mai chuglee\", \n",
    "        \"teri gaand mein haathi ka lund\", \"teri maa ki choot\", \"teri maa ki sukhi bhos\", \n",
    "        \"teri phuphi ki choot mein\", \"teri bhosri mein aag\", \"teri gaand me danda\", \n",
    "        \"teri ma ki choot me bara sa land\", \"teri ma ki chudaye bandar se hui\", \"teri ma randi\", \n",
    "        \"teri maa ke bable\", \"teri maa ke bhosade ke baal\", \"tu tera maa ka lauda\", \n",
    "        \"amma ki chut\", \"bhaand me jaao\", \"bhadva\", \"bhadve\", \"chodika\", \"bhadwe ki nasal\", \n",
    "        \"bhen ke lode maa chuda\", \"bhosad chod\", \"bhosadchod\", \"bhosadi ke\", \n",
    "        \"bhosdee kay\", \"bhosdi k\", \"bulle ke baal\", \"bursungha\", \"camina\", \"chod bhangra\", \n",
    "        \"choot k bhoot\", \"choot k pakode\", \"choot ka paani\", \"choot ka pissu\", \n",
    "        \"choot ki jhilli\", \"chudpagal\", \"chut ke makkhan\", \"chutiyo\", \"gaand maar bhen chod\", \n",
    "        \"gand mein louda\", \"gandi fuddi ki gandi auladd\", \"haram zaadaa\", \"harami\", \n",
    "        \"jhaat\", \"kaala lund\", \"kaali kutti\", \"kuthri\", \"kutte\", \"kutte ki olad\", \n",
    "        \"lavde ka baal\", \"lavde\", \"lodu\", \"lowde ka bal\", \"lund k laddu\", \n",
    "        \"lund mera muh tera\", \"maa-cho\", \"maal chhodna\", \"mahder chod\", \n",
    "        \"mera gota moo may lay\", \"mome ka pasina chat\", \"randi ka bache\", \"randi ki aanch\", \n",
    "        \"randi ki gali\", \"randi ki maa\", \"randi ki gang\", \"randi ki jhilli\", \n",
    "        \"randi ke laude\", \"sadi k shadi\", \"saala ki lund\", \"saale ke lal k ka\", \n",
    "        \"teri maa ki chudai\", \"teri maa ki chudai chudai\", \"teri maa ka anda\", \n",
    "        \"teri maa ke gande\", \"teri maa ke bhanja\", \"teri maa ki chudai\", \n",
    "        \"teri maa ke baap\", \"teri maa ke bhondu\", \"teri maa ke gay\", \n",
    "        \"teri maa ke gande shala\", \"teri maa ke gande yaar\", \"teri maa ki gaand\", \n",
    "        \"teri maa ki gandi bhai\", \"teri ma ki tatti\", \"teri saali ke gande\", \n",
    "        \"tu chudai ka ghati\", \"tu chudi\", \"tu bhai chhod\", \"tu dekhde\", \n",
    "        \"tu dhokhe wala\", \"tu gandu\", \"tu gaandu\", \"tu bhadwe\", \"udhar ka lund\"\n",
    "    ],\n",
    "    \"Hindi Translation\": [\n",
    "        \"बाप के लवड़े\", \"चोडू\", \"चोडू\", \"चूडू\", \"गंदू\", \"गंदू\", \"गंदू\", \"भोसड़\", \"भोसड़ा\", \"भोसाड़ा\", \n",
    "        \"भोसाड़ा\", \"भोसड़ी\", \"भोसडिका\", \"भोसडिके\", \"भोसडिकी\", \"बोसडिके\", \"बकरीचोद\", \"बलात्कर\", \n",
    "        \"बहन के लवड़े\", \"बेटीचोद\", \"भाई छोड़\", \"भाई छोड़\", \"बहन छोड़\", \"भाईनचोद\", \"बहनचोद\", \n",
    "        \"बहनचोद\", \"बहन के लोडे\", \"भोसड़ी\", \"भोसडिके\", \"चिपकाई की चूत के पसीने\", \"चाचा छोड़\", \n",
    "        \"चोड के बाल का कीड़ा\", \"चोपड़े हे रंडी\", \"चुदासी\", \"चूत का मेंडक\", \"चूतिया\", \"चूतिया\", \n",
    "        \"चूतिया\", \"चूतिये\", \"ढीली चूत\", \"चूत\", \"चूतिया\", \"गंद चाट मेरा\", \"गंद\", \"गंद का खड्डा\", \n",
    "        \"गंद के ढकन\", \"गंद में कीड़ा\", \"गंदी चूत में सड़ता हुआ गंदा कीड़ा\", \"गंदमस्ती\", \"झाट के बाल\", \n",
    "        \"झट लहर गया\", \"झटू\", \"झंटू\", \"कुकर्चोद\", \"कुत्ता साला\", \"कुत्ता बुरा ना है कंदा नहीं पटता है\", \n",
    "        \"लोडे जैसी शक्ल के\", \"लोडे के बाल\", \"लंड खजूर\", \"लंड चूस\", \"लंड\", \"लंड\", \"लुंड\", \n",
    "        \"मादर चोड\", \"मादरचोद\", \"मादर\", \"मादर\", \"चोड\", \"मादरचोद\", \"मादरचोद के औलाद\", \n",
    "        \"मादर चोड\", \"मैं चोड\", \"मेरा मुमे ले\", \"मेरे फुडी खा ले\", \"मेरी गंध का बाल\", \n",
    "        \"रंडी\", \"रंडी का चोड़ा\", \"सूज़ित\", \"सुस्‍ट लंड की पैदाईश\", \"टट्टी अंदर लेले\", \"तेरे बाप की गंद\", \n",
    "        \"तेरी चूत में चुगली\", \"तेरी गंद में हाथी का लंड\", \"तेरी मां की चूत\", \"तेरी मां की सुखी भोस\", \n",
    "        \"तेरी फूफी की चूत में\", \"तेरी भोसरी में आग\", \"तेरी गंद में डंडा\", \"तेरी मां की चूत में बड़ा सा लंड\", \n",
    "        \"तेरी मां की चुदाए बंदर से हुई\", \"तेरी मां रंडी\", \"तेरी मां के बब्ले\", \"तेरी मां के भोसड़े के बाल\", \n",
    "        \"तू तेरा मां का लौड़ा\", \"अम्मा की चूत\", \"भांद में जाओ\", \"भदवा\", \"भदवे\", \"चोदिका\", \n",
    "        \"भदवे की नस्ल\", \"बहन के लोडे मां चुदा\", \"भोसद छोड़\", \"भोसदचोद\", \"भोसड़ी के\", \"भोसड़ी क\", \n",
    "        \"बुल्ले के बाल\", \"बर्सुंघा\", \"कामीना\", \"चोड भांगड़ा\", \"चूत का भूत\", \"चूत के पकौड़े\", \n",
    "        \"चूत का पानी\", \"चूत का पिस्सू\", \"चूत की झिल्ली\", \"चुदपागल\", \"चूत के मक्खन\", \"चूतियों\", \n",
    "        \"गंद में लोंडा\", \"गंदी फुड़ी की गंदी औलाद\", \"हराम ज़ादा\", \"हरामी\", \"झाट\", \"काला लंड\", \n",
    "        \"काली कुट्टी\", \"कुतरी\", \"कुत्ते\", \"कुत्ते की औलाद\", \"लवड़े का बाल\", \"लवड़े\", \"लोडू\", \n",
    "        \"लोड़े का बाल\", \"लंड के लड्डू\", \"लंड मेरा मुंह तेरा\", \"माँ-चो\", \"माल छोड़ना\", \"माहेर चोड़\", \n",
    "        \"मेरा गोता मू मय ले\", \"मोम का पसीना चाट\", \"रंडी का बच्चा\", \"रंडी की आंच\", \"रंडी की गली\", \n",
    "        \"रंडी की मां\", \"रंडी की गैंग\", \"रंडी की झिल्ली\", \"रंडी के लवड़े\", \"साड़ी की शादी\", \n",
    "        \"साले का लंड\", \"साले के लाल क का\", \"तेरी मां की चुदाई\", \"तेरी मां की चुदाई चुदाई\", \n",
    "        \"तेरी मां का अंडा\", \"तेरी मां के गंदे\", \"तेरी मां के भांजा\", \"तेरी मां की चुदाई\", \n",
    "        \"तेरी मां के बाप\", \"तेरी मां के भोंडू\", \"तेरी मां के गाय\", \"तेरी मां के गंदे शाला\", \n",
    "        \"तेरी मां के गंदे यार\", \"तेरी मां की गंद\", \"तेरी मां की गंदी भाई\", \"तेरी मां की टट्टी\", \n",
    "        \"तेरी साली के गंदे\", \"तू चुदाई का घाटी\", \"तू चुदी\", \"तू भाई छोड़\", \"तू देखड़े\", \n",
    "        \"तू धोखे वाला\", \"तू गंदू\", \"तू गंदू\", \"तू भदवे\", \"उधर का लंड\",\"बहिनचोद\"\n",
    "    ]\n",
    "}\n"
   ]
  },
  {
   "cell_type": "code",
   "execution_count": 29,
   "metadata": {},
   "outputs": [],
   "source": [
    "data = {\n",
    "    \"Original Word\": [\n",
    "        \"baap ke lavde\", \"chodu\", \"chodoo\", \"choodu\", \"gandu\", \"gaandu\", \"gandoo\", \n",
    "        \"bhosad\", \"bhosada\", \"bhosadaa\", \"bhosadaaa\", \"bhosadii\", \"bhosadika\", \n",
    "        \"bhosadike\", \"bhosadiki\", \"bosadike\", \"bakrichod\", \"balatkaar\", \"behen ke laude\", \n",
    "        \"betichod\", \"bhai chhod\", \"bhayee chod\", \"bhen chhod\", \"bhaynchod\", \"behanchod\", \n",
    "        \"behenchod\", \"bhen ke lode\", \"bhosdi\", \"bhosdike\", \"chipkai ki choot ke paseene\", \n",
    "        \"cha cha chod\", \"chod ke bal ka kida\", \"chopre he randi\", \"chudasi\", \"chut ka maindak\", \n",
    "        \"chutia\", \"chutia\", \"chootia\", \"chutiyo\", \"dheeli choot\", \"choot\", \"chootiya\", \n",
    "        \"gaand chaat mera\", \"gaand\", \"gaand ka khadda\", \"gaand ke dhakan\", \"gaand mein kida\", \n",
    "        \"gandi chut mein sadta hua ganda kida\", \"gandmasti\", \"jhaat ke baal\", \"jhat lahergaya\", \n",
    "        \"jhatoo\", \"jhantu\", \"kukarchod\", \"kutha sala\", \"kuthta buraanahe kandaa nahi pattaahe\", \n",
    "        \"lode jesi shakal ke\", \"lode ke baal\", \"lund khajoor\", \"lund chuse\", \"lund\", \n",
    "        \"lundh\", \"lundh\", \"madar chod\", \"maadarchod\", \"maadar\", \"madar\", \"chod\", \n",
    "        \"madarchod\", \"madarchod ke aulaad\", \"mader chod\", \"mai chod\", \"mera mume le\", \n",
    "        \"mere fudi kha ley\", \"meri ghand ka baal\", \"randi\", \"randi ka choda\", \"suzit\", \n",
    "        \"sust lund ki padaish\", \"tatti ander lele\", \"tere baap ki gaand\", \"teri chute mai chuglee\", \n",
    "        \"teri gaand mein haathi ka lund\", \"teri maa ki choot\", \"teri maa ki sukhi bhos\", \n",
    "        \"teri phuphi ki choot mein\", \"teri bhosri mein aag\", \"teri gaand me danda\", \n",
    "        \"teri ma ki choot me bara sa land\", \"teri ma ki chudaye bandar se hui\", \"teri ma randi\", \n",
    "        \"teri maa ke bable\", \"teri maa ke bhosade ke baal\", \"tu tera maa ka lauda\", \n",
    "        \"amma ki chut\", \"bhaand me jaao\", \"bhadva\", \"bhadve\", \"chodika\", \"bhadwe ki nasal\", \n",
    "        \"bhen ke lode maa chuda\", \"bhosad chod\", \"bhosadchod\", \"bhosadi ke\", \n",
    "        \"bhosdee kay\", \"bhosdi k\", \"bulle ke baal\", \"bursungha\", \"camina\", \"chod bhangra\", \n",
    "        \"choot k bhoot\", \"choot k pakode\", \"choot ka paani\", \"choot ka pissu\", \n",
    "        \"choot ki jhilli\", \"chudpagal\", \"chut ke makkhan\", \"chutiyo\", \"gaand maar bhen chod\", \n",
    "        \"gand mein louda\", \"gandi fuddi ki gandi auladd\", \"haram zaadaa\", \"harami\", \n",
    "        \"jhaat\", \"kaala lund\", \"kaali kutti\", \"kutha\", \"kutte\", \"kutte ki olad\", \n",
    "        \"lavde ka baal\", \"lavde\", \"lodu\", \"lowde ka bal\", \"lund k laddu\", \n",
    "        \"lund mera muh tera\", \"maa-cho\", \"maal chhodna\", \"mahder chod\", \n",
    "        \"mera gota moo may lay\", \"mome ka pasina chat\", \"randi ka bache\", \"randi ki aanch\", \n",
    "        \"randi ki gali\", \"randi ki maa\", \"randi ki gang\", \"randi ki jhilli\", \n",
    "        \"randi ke laude\", \"sadi k shadi\", \"saala ki lund\", \"saale ke lal k ka\", \n",
    "        \"teri maa ki chudai\", \"teri maa ki chudai chudai\", \"teri maa ka anda\", \n",
    "        \"teri maa ke gande\", \"teri maa ke bhanja\", \"teri maa ki chudai\", \n",
    "        \"teri maa ke bap\", \"teri maa ke bhondu\", \"teri maa ke gay\", \n",
    "        \"teri maa ke gande shala\", \"teri maa ke gande yaar\", \"teri maa ki gend\", \n",
    "        \"teri maa ki gandi bhai\", \"teri ma ki tatti\", \"teri sali ke gande\", \n",
    "        \"tu chudai ka ghati\", \"tu chudi\", \"tu bhai chhod\", \"tu dekhde\", \n",
    "        \"tu dhokhe wala\", \"tu gandu\", \"tu gaandu\", \"tu bhadwe\", \"udhar ka lund\"\n",
    "    ],\n",
    "    \"Hindi Translation\": [\n",
    "        \"बाप के लवड़े\", \"चोडू\", \"चोडू\", \"चूडू\", \"गंदू\", \"गंदू\", \"गंदू\", \"भोसड़\", \"भोसड़ा\", \"भोसाड़ा\", \n",
    "        \"भोसाड़ा\", \"भोसड़ी\", \"भोसडिका\", \"भोसडिके\", \"भोसडिके\", \"बोसडिके\", \"बकरीचोद\", \"बलात्कर\", \n",
    "        \"बहन के लवड़े\", \"बेटीचोद\", \"भाई छोड़\", \"भाई छोड़\", \"बहन छोड़\", \"भाईनचोद\", \"बहनचोद\", \n",
    "        \"बहनचोद\", \"बहन के लोडे\", \"भोसड़ी\", \"भोसडिके\", \"चिपकाई की चूत के पसीने\", \"चाचा छोड़\", \n",
    "        \"चोड के बाल का कीड़ा\", \"चोपड़े हे रंडी\", \"चुदासी\", \"चूत का मेंडक\", \"चूतिया\", \"चूतिया\", \n",
    "        \"चूतिया\", \"चूतिये\", \"ढीली चूत\", \"चूत\", \"चूतिया\", \"गंद चाट मेरा\", \"गंद\", \"गंद का खड्डा\", \n",
    "        \"गंद के ढकन\", \"गंद में कीड़ा\", \"गंदी चूत में सड़ता हुआ गंदा कीड़ा\", \"गंदमस्ती\", \"झाट के बाल\", \n",
    "        \"झट लहर गया\", \"झटू\", \"झंटू\", \"कुकर्चोद\", \"कुत्ता साला\", \"कुत्ता बुरा ना है कंदा नहीं पटता है\", \n",
    "        \"लोडे जैसी शक्ल के\", \"लोडे के बाल\", \"लंड खजूर\", \"लंड चूस\", \"लंड\", \"लंड\", \"लुंड\", \n",
    "        \"मादर चोड\", \"मादरचोद\", \"मादर\", \"मादर\", \"चोड\", \"मादरचोद\", \"मादरचोद के औलाद\", \n",
    "        \"मादर चोड\", \"मैं चोड\", \"मेरा मुमे ले\", \"मेरे फुडी खा ले\", \"मेरी गंध का बाल\", \n",
    "        \"रंडी\", \"रंडी का चोड़ा\", \"सूज़ित\", \"सुस्‍ट लंड की पैदाईश\", \"टट्टी अंदर लेले\", \"तेरे बाप की गंद\", \n",
    "        \"तेरी चूत में चुगली\", \"तेरी गंद में हाथी का लंड\", \"तेरी मां की चूत\", \"तेरी मां की सुखी भोस\", \n",
    "        \"तेरी फूफी की चूत में\", \"तेरी भोसरी में आग\", \"तेरी गंद में डंडा\", \"तेरी मां की चूत में बड़ा सा लंड\", \n",
    "        \"तेरी मां की चुदाए बंदर से हुई\", \"तेरी मां रंडी\", \"तेरी मां के बब्ले\", \"तेरी मां के भोसड़े के बाल\", \n",
    "        \"तू तेरा मां का लौड़ा\", \"अम्मा की चूत\", \"भांद में जाओ\", \"भदवा\", \"भदवे\", \"चोदिका\", \n",
    "        \"भदवे की नस्ल\", \"बहन के लोडे मां चुदा\", \"भोसद छोड़\", \"भोसदचोद\", \"भोसड़ी के\", \"भोसडी के\", \n",
    "        \"भोसड़ी के\", \"बुल्ले के बाल\", \"बुर्सुंघा\", \"कमिना\", \"चोड़ भांगड़ा\", \"चूत के भूत\", \n",
    "        \"चूत के पकौड़े\", \"चूत का पानी\", \"चूत का पिस्सू\", \"चूत की झिल्ली\", \"चुदपागल\", \"चूत के मक्खन\", \n",
    "        \"चूतियों\", \"गंद में लोंडा\", \"गंदी फुड़ी की गंदी औलाद\", \"हराम ज़ादा\", \"हरामी\", \"झाट\", \n",
    "        \"काला लंड\", \"काली कुट्टी\", \"कुतरी\", \"कुत्ते\", \"कुत्ते की औलाद\", \"लवड़े का बाल\", \n",
    "        \"लवड़े\", \"लोडू\", \"लोड़े का बाल\", \"लंड के लड्डू\", \"लंड मेरा मुंह तेरा\", \"माँ-चो\", \n",
    "        \"माल छोड़ना\", \"माहेर चोड़\", \"मेरा गोता मू मय ले\", \"मोम का पसीना चाट\", \"रंडी का बच्चा\", \n",
    "        \"रंडी की आंच\", \"रंडी की गली\", \"रंडी की मां\", \"रंडी की गैंग\", \"रंडी की झिल्ली\", \n",
    "        \"रंडी के लवड़े\", \"साड़ी की शादी\", \"साले का लंड\", \"साले के लाल क का\", \"तेरी मां की चुदाई\", \n",
    "        \"तेरी मां की चुदाई चुदाई\", \"तेरी मां का अंडा\", \"तेरी मां के गंदे\", \"तेरी मां के भांजा\", \n",
    "        \"तेरी मां की चुदाई\", \"तेरी मां के बाप\", \"तेरी मां के भोंडू\", \"तेरी मां के गाय\", \n",
    "        \"तेरी मां के गंदे शाला\", \"तेरी मां के गंदे यार\", \"तेरी मां की गंद\", \"तेरी मां की गंदी भाई\", \n",
    "        \"तेरी मां की टट्टी\", \"तेरी साली के गंदे\", \"तू चुदाई का घाटी\", \"तू चुदी\", \"तू भाई छोड़\", \n",
    "        \"तू देखड़े\", \"तू धोखे वाला\", \"तू गंदू\", \"तू गंदू\", \"तू भदवे\", \"उधर का लंड\",\"बहिनचोद\"\n",
    "    ]\n",
    "}"
   ]
  },
  {
   "cell_type": "code",
   "execution_count": 30,
   "metadata": {},
   "outputs": [
    {
     "data": {
      "text/plain": [
       "174"
      ]
     },
     "execution_count": 30,
     "metadata": {},
     "output_type": "execute_result"
    }
   ],
   "source": [
    "len(data['Hindi Translation'])"
   ]
  },
  {
   "cell_type": "code",
   "execution_count": 31,
   "metadata": {},
   "outputs": [
    {
     "data": {
      "text/plain": [
       "174"
      ]
     },
     "execution_count": 31,
     "metadata": {},
     "output_type": "execute_result"
    }
   ],
   "source": [
    "len(data[\"Original Word\"])"
   ]
  },
  {
   "cell_type": "code",
   "execution_count": 32,
   "metadata": {},
   "outputs": [],
   "source": [
    "new_df = pd.DataFrame(data)\n",
    "\n",
    "updated_df = pd.concat([df, new_df], ignore_index=True)"
   ]
  },
  {
   "cell_type": "code",
   "execution_count": 34,
   "metadata": {},
   "outputs": [],
   "source": [
    "updated_df.to_csv(\"BadWordListUpdated.csv\")"
   ]
  },
  {
   "cell_type": "code",
   "execution_count": 37,
   "metadata": {},
   "outputs": [
    {
     "data": {
      "text/html": [
       "<div>\n",
       "<style scoped>\n",
       "    .dataframe tbody tr th:only-of-type {\n",
       "        vertical-align: middle;\n",
       "    }\n",
       "\n",
       "    .dataframe tbody tr th {\n",
       "        vertical-align: top;\n",
       "    }\n",
       "\n",
       "    .dataframe thead th {\n",
       "        text-align: right;\n",
       "    }\n",
       "</style>\n",
       "<table border=\"1\" class=\"dataframe\">\n",
       "  <thead>\n",
       "    <tr style=\"text-align: right;\">\n",
       "      <th></th>\n",
       "      <th>label</th>\n",
       "      <th>text</th>\n",
       "    </tr>\n",
       "  </thead>\n",
       "  <tbody>\n",
       "    <tr>\n",
       "      <th>0</th>\n",
       "      <td>1</td>\n",
       "      <td>मां से बड़ा कोई अर्थ      हो तो बताओ मां से छो...</td>\n",
       "    </tr>\n",
       "    <tr>\n",
       "      <th>1</th>\n",
       "      <td>0</td>\n",
       "      <td>हीच्या वर घोडा उडवायला पाहिजे</td>\n",
       "    </tr>\n",
       "    <tr>\n",
       "      <th>2</th>\n",
       "      <td>1</td>\n",
       "      <td>ये उन अभागो की माँ आयी हुई है जिन्हें माँ शव्द...</td>\n",
       "    </tr>\n",
       "    <tr>\n",
       "      <th>3</th>\n",
       "      <td>1</td>\n",
       "      <td>अरे ये चड्डी तो बा ध के</td>\n",
       "    </tr>\n",
       "    <tr>\n",
       "      <th>4</th>\n",
       "      <td>0</td>\n",
       "      <td>पढा लिखा अनपड गधा दुद्दीन</td>\n",
       "    </tr>\n",
       "  </tbody>\n",
       "</table>\n",
       "</div>"
      ],
      "text/plain": [
       "   label                                               text\n",
       "0      1  मां से बड़ा कोई अर्थ      हो तो बताओ मां से छो...\n",
       "1      0                      हीच्या वर घोडा उडवायला पाहिजे\n",
       "2      1  ये उन अभागो की माँ आयी हुई है जिन्हें माँ शव्द...\n",
       "3      1                            अरे ये चड्डी तो बा ध के\n",
       "4      0                          पढा लिखा अनपड गधा दुद्दीन"
      ]
     },
     "execution_count": 37,
     "metadata": {},
     "output_type": "execute_result"
    }
   ],
   "source": [
    "import pandas as pd\n",
    "\n",
    "df = pd.read_csv(\"hindi_val.csv\", encoding='utf-8')\n",
    "df.head()"
   ]
  },
  {
   "cell_type": "code",
   "execution_count": 6,
   "metadata": {},
   "outputs": [],
   "source": [
    "from indic_transliteration import sanscript\n",
    "from indic_transliteration.sanscript import transliterate\n",
    "import re\n",
    "\n",
    "def hinglish_to_hindi(text):\n",
    "    # Preprocess the text to remove any unwanted characters or spaces\n",
    "    text = re.sub(r'[^a-zA-Z\\s]', '', text)  # Remove non-alphabet characters except spaces\n",
    "    text = text.lower()  # Convert to lowercase for uniformity\n",
    "    \n",
    "    # Perform transliteration\n",
    "    hindi_text = transliterate(text, sanscript.ITRANS, sanscript.DEVANAGARI)\n",
    "    \n",
    "    # Post-process to fix any remaining issues (optional, if needed)\n",
    "    return hindi_text\n"
   ]
  },
  {
   "cell_type": "code",
   "execution_count": 25,
   "metadata": {},
   "outputs": [],
   "source": [
    "df['Hindi_Text_3'] = df['text'].apply(hinglish_to_hindi)"
   ]
  },
  {
   "cell_type": "code",
   "execution_count": 26,
   "metadata": {},
   "outputs": [
    {
     "data": {
      "text/html": [
       "<div>\n",
       "<style scoped>\n",
       "    .dataframe tbody tr th:only-of-type {\n",
       "        vertical-align: middle;\n",
       "    }\n",
       "\n",
       "    .dataframe tbody tr th {\n",
       "        vertical-align: top;\n",
       "    }\n",
       "\n",
       "    .dataframe thead th {\n",
       "        text-align: right;\n",
       "    }\n",
       "</style>\n",
       "<table border=\"1\" class=\"dataframe\">\n",
       "  <thead>\n",
       "    <tr style=\"text-align: right;\">\n",
       "      <th></th>\n",
       "      <th>Transliteration</th>\n",
       "      <th>Devanagari</th>\n",
       "    </tr>\n",
       "  </thead>\n",
       "  <tbody>\n",
       "    <tr>\n",
       "      <th>0</th>\n",
       "      <td>aad</td>\n",
       "      <td>आंड़</td>\n",
       "    </tr>\n",
       "    <tr>\n",
       "      <th>1</th>\n",
       "      <td>aand</td>\n",
       "      <td>आंड</td>\n",
       "    </tr>\n",
       "    <tr>\n",
       "      <th>2</th>\n",
       "      <td>bahenchod</td>\n",
       "      <td>बहनचोद</td>\n",
       "    </tr>\n",
       "    <tr>\n",
       "      <th>3</th>\n",
       "      <td>behenchod</td>\n",
       "      <td>बेहेनचोद</td>\n",
       "    </tr>\n",
       "    <tr>\n",
       "      <th>4</th>\n",
       "      <td>bahen ka lauda</td>\n",
       "      <td>बेहेन्का लौडा</td>\n",
       "    </tr>\n",
       "  </tbody>\n",
       "</table>\n",
       "</div>"
      ],
      "text/plain": [
       "  Transliteration     Devanagari\n",
       "0             aad           आंड़\n",
       "1            aand            आंड\n",
       "2       bahenchod         बहनचोद\n",
       "3       behenchod       बेहेनचोद\n",
       "4  bahen ka lauda  बेहेन्का लौडा"
      ]
     },
     "execution_count": 26,
     "metadata": {},
     "output_type": "execute_result"
    }
   ],
   "source": [
    "bad_words = pd.read_csv(\"BadWordListUpdated.csv\")\n",
    "bad_words.head()"
   ]
  },
  {
   "cell_type": "code",
   "execution_count": 27,
   "metadata": {},
   "outputs": [],
   "source": [
    "bad_word_list = bad_words['Devanagari'].to_list()"
   ]
  },
  {
   "cell_type": "code",
   "execution_count": 28,
   "metadata": {},
   "outputs": [],
   "source": [
    "data = df['text'].to_list()"
   ]
  },
  {
   "cell_type": "code",
   "execution_count": 29,
   "metadata": {},
   "outputs": [],
   "source": [
    "bad_words = bad_word_list"
   ]
  },
  {
   "cell_type": "code",
   "execution_count": 38,
   "metadata": {},
   "outputs": [
    {
     "data": {
      "text/html": [
       "<div>\n",
       "<style scoped>\n",
       "    .dataframe tbody tr th:only-of-type {\n",
       "        vertical-align: middle;\n",
       "    }\n",
       "\n",
       "    .dataframe tbody tr th {\n",
       "        vertical-align: top;\n",
       "    }\n",
       "\n",
       "    .dataframe thead th {\n",
       "        text-align: right;\n",
       "    }\n",
       "</style>\n",
       "<table border=\"1\" class=\"dataframe\">\n",
       "  <thead>\n",
       "    <tr style=\"text-align: right;\">\n",
       "      <th></th>\n",
       "      <th>Filtered Sentences</th>\n",
       "    </tr>\n",
       "  </thead>\n",
       "  <tbody>\n",
       "    <tr>\n",
       "      <th>0</th>\n",
       "      <td>अरे तेरी मां के बेशर्म चोदो</td>\n",
       "    </tr>\n",
       "    <tr>\n",
       "      <th>1</th>\n",
       "      <td>फैन के लोड़े झाडू</td>\n",
       "    </tr>\n",
       "    <tr>\n",
       "      <th>2</th>\n",
       "      <td>कितनी भी बकचोदी करो आएगा तो मोदी ही😂😂</td>\n",
       "    </tr>\n",
       "    <tr>\n",
       "      <th>3</th>\n",
       "      <td>Kyu waha उन्होंने जंगली कुत्ते लगा दिए है kya</td>\n",
       "    </tr>\n",
       "    <tr>\n",
       "      <th>4</th>\n",
       "      <td>मेरे बाइक का चाबी निकाल लिए तो मेरी गाड़ी बीच ...</td>\n",
       "    </tr>\n",
       "    <tr>\n",
       "      <th>...</th>\n",
       "      <td>...</td>\n",
       "    </tr>\n",
       "    <tr>\n",
       "      <th>817</th>\n",
       "      <td>अरे कुत्ते किस मंदिर में खुदा को पूजा जाता है ...</td>\n",
       "    </tr>\n",
       "    <tr>\n",
       "      <th>818</th>\n",
       "      <td>साला समझ मे नही आता की दुध पी रही है या वापिस ...</td>\n",
       "    </tr>\n",
       "    <tr>\n",
       "      <th>819</th>\n",
       "      <td>सबसे बड़ा गधा तो को पोस्ट किया है वह है</td>\n",
       "    </tr>\n",
       "    <tr>\n",
       "      <th>820</th>\n",
       "      <td>अरे किसी के पास कोई काम धंधा नहीं है सब नवरे ब...</td>\n",
       "    </tr>\n",
       "    <tr>\n",
       "      <th>821</th>\n",
       "      <td>भाई इन बातों से कोई फायदा नहीं गड़े मुर्दे हार...</td>\n",
       "    </tr>\n",
       "  </tbody>\n",
       "</table>\n",
       "<p>822 rows × 1 columns</p>\n",
       "</div>"
      ],
      "text/plain": [
       "                                    Filtered Sentences\n",
       "0                          अरे तेरी मां के बेशर्म चोदो\n",
       "1                                    फैन के लोड़े झाडू\n",
       "2                कितनी भी बकचोदी करो आएगा तो मोदी ही😂😂\n",
       "3        Kyu waha उन्होंने जंगली कुत्ते लगा दिए है kya\n",
       "4    मेरे बाइक का चाबी निकाल लिए तो मेरी गाड़ी बीच ...\n",
       "..                                                 ...\n",
       "817  अरे कुत्ते किस मंदिर में खुदा को पूजा जाता है ...\n",
       "818  साला समझ मे नही आता की दुध पी रही है या वापिस ...\n",
       "819            सबसे बड़ा गधा तो को पोस्ट किया है वह है\n",
       "820  अरे किसी के पास कोई काम धंधा नहीं है सब नवरे ब...\n",
       "821  भाई इन बातों से कोई फायदा नहीं गड़े मुर्दे हार...\n",
       "\n",
       "[822 rows x 1 columns]"
      ]
     },
     "execution_count": 38,
     "metadata": {},
     "output_type": "execute_result"
    }
   ],
   "source": [
    "filtered_data = [sentence for sentence in data if any(bad_word in sentence for bad_word in bad_words)]\n",
    "df_filtered = pd.DataFrame(filtered_data, columns=[\"Filtered Sentences\"])\n",
    "df_filtered"
   ]
  },
  {
   "cell_type": "code",
   "execution_count": 39,
   "metadata": {},
   "outputs": [],
   "source": [
    "df_filtered.to_csv(\"Update.csv\", index=False)"
   ]
  },
  {
   "cell_type": "code",
   "execution_count": 44,
   "metadata": {},
   "outputs": [
    {
     "data": {
      "text/html": [
       "<div>\n",
       "<style scoped>\n",
       "    .dataframe tbody tr th:only-of-type {\n",
       "        vertical-align: middle;\n",
       "    }\n",
       "\n",
       "    .dataframe tbody tr th {\n",
       "        vertical-align: top;\n",
       "    }\n",
       "\n",
       "    .dataframe thead th {\n",
       "        text-align: right;\n",
       "    }\n",
       "</style>\n",
       "<table border=\"1\" class=\"dataframe\">\n",
       "  <thead>\n",
       "    <tr style=\"text-align: right;\">\n",
       "      <th></th>\n",
       "      <th>Filtered Sentences</th>\n",
       "    </tr>\n",
       "  </thead>\n",
       "  <tbody>\n",
       "    <tr>\n",
       "      <th>0</th>\n",
       "      <td>#unlock4guidelines - अनलॉक-4 के लिए गाइडलाइन्स...</td>\n",
       "    </tr>\n",
       "    <tr>\n",
       "      <th>1</th>\n",
       "      <td>चीन ने UN में तर्क दिया की भारत का विपक्ष ही अ...</td>\n",
       "    </tr>\n",
       "    <tr>\n",
       "      <th>2</th>\n",
       "      <td>बियर ग्रिल्स के साथ खतरनाक जंगलों में दिखेंगे ...</td>\n",
       "    </tr>\n",
       "    <tr>\n",
       "      <th>3</th>\n",
       "      <td>पूर्व प्रधानमंत्री डॉ. मनमोहन सिंह ने 10 राजाज...</td>\n",
       "    </tr>\n",
       "    <tr>\n",
       "      <th>4</th>\n",
       "      <td>कुत्ते में भी एकता होती है विचारों में विरोध ह...</td>\n",
       "    </tr>\n",
       "    <tr>\n",
       "      <th>...</th>\n",
       "      <td>...</td>\n",
       "    </tr>\n",
       "    <tr>\n",
       "      <th>10119</th>\n",
       "      <td>अरे कुत्ते किस मंदिर में खुदा को पूजा जाता है ...</td>\n",
       "    </tr>\n",
       "    <tr>\n",
       "      <th>10120</th>\n",
       "      <td>साला समझ मे नही आता की दुध पी रही है या वापिस ...</td>\n",
       "    </tr>\n",
       "    <tr>\n",
       "      <th>10121</th>\n",
       "      <td>सबसे बड़ा गधा तो को पोस्ट किया है वह है</td>\n",
       "    </tr>\n",
       "    <tr>\n",
       "      <th>10122</th>\n",
       "      <td>अरे किसी के पास कोई काम धंधा नहीं है सब नवरे ब...</td>\n",
       "    </tr>\n",
       "    <tr>\n",
       "      <th>10123</th>\n",
       "      <td>भाई इन बातों से कोई फायदा नहीं गड़े मुर्दे हार...</td>\n",
       "    </tr>\n",
       "  </tbody>\n",
       "</table>\n",
       "<p>10124 rows × 1 columns</p>\n",
       "</div>"
      ],
      "text/plain": [
       "                                      Filtered Sentences\n",
       "0      #unlock4guidelines - अनलॉक-4 के लिए गाइडलाइन्स...\n",
       "1      चीन ने UN में तर्क दिया की भारत का विपक्ष ही अ...\n",
       "2      बियर ग्रिल्स के साथ खतरनाक जंगलों में दिखेंगे ...\n",
       "3      पूर्व प्रधानमंत्री डॉ. मनमोहन सिंह ने 10 राजाज...\n",
       "4      कुत्ते में भी एकता होती है विचारों में विरोध ह...\n",
       "...                                                  ...\n",
       "10119  अरे कुत्ते किस मंदिर में खुदा को पूजा जाता है ...\n",
       "10120  साला समझ मे नही आता की दुध पी रही है या वापिस ...\n",
       "10121            सबसे बड़ा गधा तो को पोस्ट किया है वह है\n",
       "10122  अरे किसी के पास कोई काम धंधा नहीं है सब नवरे ब...\n",
       "10123  भाई इन बातों से कोई फायदा नहीं गड़े मुर्दे हार...\n",
       "\n",
       "[10124 rows x 1 columns]"
      ]
     },
     "execution_count": 44,
     "metadata": {},
     "output_type": "execute_result"
    }
   ],
   "source": [
    "og_df = pd.read_csv(\"data2.csv\")\n",
    "og_df"
   ]
  },
  {
   "cell_type": "code",
   "execution_count": 41,
   "metadata": {},
   "outputs": [
    {
     "data": {
      "text/plain": [
       "Filtered Sentences    9302\n",
       "dtype: int64"
      ]
     },
     "execution_count": 41,
     "metadata": {},
     "output_type": "execute_result"
    }
   ],
   "source": [
    "og_df.notnull().sum()"
   ]
  },
  {
   "cell_type": "code",
   "execution_count": 42,
   "metadata": {},
   "outputs": [],
   "source": [
    "updated_df = pd.concat([og_df, df_filtered], ignore_index=True)"
   ]
  },
  {
   "cell_type": "code",
   "execution_count": 28,
   "metadata": {},
   "outputs": [],
   "source": [
    "updated_df = pd.concat([updated_df, df_filtered], ignore_index=True)"
   ]
  },
  {
   "cell_type": "code",
   "execution_count": 43,
   "metadata": {},
   "outputs": [],
   "source": [
    "updated_df.to_csv(\"data2.csv\", index=False)"
   ]
  }
 ],
 "metadata": {
  "kernelspec": {
   "display_name": "Python 3",
   "language": "python",
   "name": "python3"
  },
  "language_info": {
   "codemirror_mode": {
    "name": "ipython",
    "version": 3
   },
   "file_extension": ".py",
   "mimetype": "text/x-python",
   "name": "python",
   "nbconvert_exporter": "python",
   "pygments_lexer": "ipython3",
   "version": "3.11.4"
  }
 },
 "nbformat": 4,
 "nbformat_minor": 2
}
