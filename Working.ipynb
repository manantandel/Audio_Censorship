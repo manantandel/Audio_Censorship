{
 "cells": [
  {
   "cell_type": "code",
   "execution_count": 10,
   "metadata": {
    "execution": {
     "iopub.execute_input": "2024-10-05T19:25:50.088674Z",
     "iopub.status.busy": "2024-10-05T19:25:50.087765Z",
     "iopub.status.idle": "2024-10-05T19:25:50.095188Z",
     "shell.execute_reply": "2024-10-05T19:25:50.094100Z",
     "shell.execute_reply.started": "2024-10-05T19:25:50.088621Z"
    },
    "trusted": true
   },
   "outputs": [],
   "source": [
    "import pandas as pd\n",
    "import numpy as np\n",
    "from tensorflow.keras.preprocessing.text import Tokenizer\n",
    "from tensorflow.keras.preprocessing.sequence import pad_sequences\n",
    "from tensorflow.keras.models import Sequential\n",
    "from tensorflow.keras.layers import Embedding, LSTM, Dense, Dropout\n",
    "from sklearn.model_selection import train_test_split\n",
    "import re"
   ]
  },
  {
   "cell_type": "code",
   "execution_count": 73,
   "metadata": {
    "execution": {
     "iopub.execute_input": "2024-10-05T19:25:50.098152Z",
     "iopub.status.busy": "2024-10-05T19:25:50.097165Z",
     "iopub.status.idle": "2024-10-05T19:25:50.104582Z",
     "shell.execute_reply": "2024-10-05T19:25:50.103740Z",
     "shell.execute_reply.started": "2024-10-05T19:25:50.098106Z"
    },
    "trusted": true
   },
   "outputs": [],
   "source": [
    "# 1. Load the datasets\n",
    "try_data_path = 'annotated_bad_words.csv'\n",
    "\n",
    "badwordlist_data_path = 'BadWordListUpdated.csv'"
   ]
  },
  {
   "cell_type": "code",
   "execution_count": 74,
   "metadata": {
    "execution": {
     "iopub.execute_input": "2024-10-05T19:25:50.106038Z",
     "iopub.status.busy": "2024-10-05T19:25:50.105697Z",
     "iopub.status.idle": "2024-10-05T19:25:50.151203Z",
     "shell.execute_reply": "2024-10-05T19:25:50.150227Z",
     "shell.execute_reply.started": "2024-10-05T19:25:50.106005Z"
    },
    "trusted": true
   },
   "outputs": [],
   "source": [
    "try_df = pd.read_csv(try_data_path)\n",
    "badwordlist_df = pd.read_csv(badwordlist_data_path)"
   ]
  },
  {
   "cell_type": "code",
   "execution_count": 75,
   "metadata": {},
   "outputs": [],
   "source": [
    "try_df.dropna(inplace=True)"
   ]
  },
  {
   "cell_type": "code",
   "execution_count": 76,
   "metadata": {
    "execution": {
     "iopub.execute_input": "2024-10-05T19:25:50.154833Z",
     "iopub.status.busy": "2024-10-05T19:25:50.154164Z",
     "iopub.status.idle": "2024-10-05T19:25:50.162490Z",
     "shell.execute_reply": "2024-10-05T19:25:50.161505Z",
     "shell.execute_reply.started": "2024-10-05T19:25:50.154785Z"
    },
    "trusted": true
   },
   "outputs": [],
   "source": [
    "# 2. Extract bad words and sentences\n",
    "badwords_devanagari = badwordlist_df['Devanagari'].dropna().tolist()\n",
    "sentences = try_df['Filtered Sentences']"
   ]
  },
  {
   "cell_type": "code",
   "execution_count": 77,
   "metadata": {},
   "outputs": [
    {
     "data": {
      "text/plain": [
       "453"
      ]
     },
     "execution_count": 77,
     "metadata": {},
     "output_type": "execute_result"
    }
   ],
   "source": [
    "len(badwords_devanagari)"
   ]
  },
  {
   "cell_type": "code",
   "execution_count": 15,
   "metadata": {
    "execution": {
     "iopub.execute_input": "2024-10-05T19:25:50.164118Z",
     "iopub.status.busy": "2024-10-05T19:25:50.163730Z",
     "iopub.status.idle": "2024-10-05T19:25:50.169903Z",
     "shell.execute_reply": "2024-10-05T19:25:50.168903Z",
     "shell.execute_reply.started": "2024-10-05T19:25:50.164072Z"
    },
    "trusted": true
   },
   "outputs": [],
   "source": [
    "# Function to check if a sentence contains any bad words\n",
    "def contains_badword(sentence, badword_list):\n",
    "    for word in badword_list:\n",
    "        if re.search(r'\\b' + re.escape(word) + r'\\b', sentence):\n",
    "            return 1  # Contains a bad word\n",
    "    return 0  # No bad word found"
   ]
  },
  {
   "cell_type": "code",
   "execution_count": 16,
   "metadata": {
    "execution": {
     "iopub.execute_input": "2024-10-05T19:25:50.171656Z",
     "iopub.status.busy": "2024-10-05T19:25:50.171264Z",
     "iopub.status.idle": "2024-10-05T19:25:52.932786Z",
     "shell.execute_reply": "2024-10-05T19:25:52.931770Z",
     "shell.execute_reply.started": "2024-10-05T19:25:50.171610Z"
    },
    "trusted": true
   },
   "outputs": [],
   "source": [
    "# 3. Annotate sentences with bad word labels\n",
    "try_df['contains_badword'] = sentences.apply(lambda x: contains_badword(x, badwords_devanagari))"
   ]
  },
  {
   "cell_type": "code",
   "execution_count": 17,
   "metadata": {
    "execution": {
     "iopub.execute_input": "2024-10-05T19:25:52.935011Z",
     "iopub.status.busy": "2024-10-05T19:25:52.934330Z",
     "iopub.status.idle": "2024-10-05T19:25:53.021043Z",
     "shell.execute_reply": "2024-10-05T19:25:53.019976Z",
     "shell.execute_reply.started": "2024-10-05T19:25:52.934965Z"
    },
    "trusted": true
   },
   "outputs": [],
   "source": [
    "# 4. Tokenize and pad sentences\n",
    "tokenizer = Tokenizer()\n",
    "tokenizer.fit_on_texts(try_df['Filtered Sentences'])"
   ]
  },
  {
   "cell_type": "code",
   "execution_count": 18,
   "metadata": {
    "execution": {
     "iopub.execute_input": "2024-10-05T19:25:53.023065Z",
     "iopub.status.busy": "2024-10-05T19:25:53.022665Z",
     "iopub.status.idle": "2024-10-05T19:25:53.100985Z",
     "shell.execute_reply": "2024-10-05T19:25:53.100046Z",
     "shell.execute_reply.started": "2024-10-05T19:25:53.023020Z"
    },
    "trusted": true
   },
   "outputs": [],
   "source": [
    "# Convert sentences to sequences of token IDs\n",
    "sequences = tokenizer.texts_to_sequences(try_df['Filtered Sentences'])"
   ]
  },
  {
   "cell_type": "code",
   "execution_count": 19,
   "metadata": {
    "execution": {
     "iopub.execute_input": "2024-10-05T19:25:53.102745Z",
     "iopub.status.busy": "2024-10-05T19:25:53.102296Z",
     "iopub.status.idle": "2024-10-05T19:25:53.118187Z",
     "shell.execute_reply": "2024-10-05T19:25:53.117319Z",
     "shell.execute_reply.started": "2024-10-05T19:25:53.102684Z"
    },
    "trusted": true
   },
   "outputs": [],
   "source": [
    "# Pad the sequences to ensure uniform length\n",
    "max_sequence_length = max(len(seq) for seq in sequences)\n",
    "X = pad_sequences(sequences, maxlen=max_sequence_length)"
   ]
  },
  {
   "cell_type": "code",
   "execution_count": 20,
   "metadata": {
    "execution": {
     "iopub.execute_input": "2024-10-05T19:25:53.121926Z",
     "iopub.status.busy": "2024-10-05T19:25:53.121606Z",
     "iopub.status.idle": "2024-10-05T19:25:53.126300Z",
     "shell.execute_reply": "2024-10-05T19:25:53.125212Z",
     "shell.execute_reply.started": "2024-10-05T19:25:53.121894Z"
    },
    "trusted": true
   },
   "outputs": [],
   "source": [
    "# 5. Prepare the labels\n",
    "y = try_df['contains_badword'].values"
   ]
  },
  {
   "cell_type": "code",
   "execution_count": 21,
   "metadata": {
    "execution": {
     "iopub.execute_input": "2024-10-05T19:25:53.127586Z",
     "iopub.status.busy": "2024-10-05T19:25:53.127243Z",
     "iopub.status.idle": "2024-10-05T19:25:53.138937Z",
     "shell.execute_reply": "2024-10-05T19:25:53.138000Z",
     "shell.execute_reply.started": "2024-10-05T19:25:53.127547Z"
    },
    "trusted": true
   },
   "outputs": [],
   "source": [
    "# 6. Split the data into training and testing sets\n",
    "X_train, X_test, y_train, y_test = train_test_split(X, y, test_size=0.2, random_state=42)"
   ]
  },
  {
   "cell_type": "code",
   "execution_count": 22,
   "metadata": {
    "execution": {
     "iopub.execute_input": "2024-10-05T19:25:53.140492Z",
     "iopub.status.busy": "2024-10-05T19:25:53.140124Z",
     "iopub.status.idle": "2024-10-05T19:25:53.145657Z",
     "shell.execute_reply": "2024-10-05T19:25:53.144639Z",
     "shell.execute_reply.started": "2024-10-05T19:25:53.140447Z"
    },
    "trusted": true
   },
   "outputs": [],
   "source": [
    "# 7. Build the LSTM model\n",
    "vocab_size = len(tokenizer.word_index) + 1  # Vocabulary size for embedding layer"
   ]
  },
  {
   "cell_type": "code",
   "execution_count": 23,
   "metadata": {
    "execution": {
     "iopub.execute_input": "2024-10-05T19:25:53.147456Z",
     "iopub.status.busy": "2024-10-05T19:25:53.147065Z",
     "iopub.status.idle": "2024-10-05T19:25:53.925614Z",
     "shell.execute_reply": "2024-10-05T19:25:53.924734Z",
     "shell.execute_reply.started": "2024-10-05T19:25:53.147406Z"
    },
    "trusted": true
   },
   "outputs": [
    {
     "name": "stderr",
     "output_type": "stream",
     "text": [
      "c:\\Users\\manan\\AppData\\Local\\Programs\\Python\\Python311\\Lib\\site-packages\\keras\\src\\layers\\core\\embedding.py:90: UserWarning: Argument `input_length` is deprecated. Just remove it.\n",
      "  warnings.warn(\n"
     ]
    }
   ],
   "source": [
    "model = Sequential([\n",
    "    Embedding(input_dim=vocab_size, output_dim=128, input_length=max_sequence_length),\n",
    "    LSTM(128, return_sequences=False),\n",
    "    Dropout(0.5),\n",
    "    Dense(64, activation='relu'),\n",
    "    Dropout(0.5),\n",
    "    Dense(1, activation='sigmoid')  # Binary classification (badword or not)\n",
    "])"
   ]
  },
  {
   "cell_type": "code",
   "execution_count": 24,
   "metadata": {
    "execution": {
     "iopub.execute_input": "2024-10-05T19:25:53.927357Z",
     "iopub.status.busy": "2024-10-05T19:25:53.926990Z",
     "iopub.status.idle": "2024-10-05T19:25:53.947330Z",
     "shell.execute_reply": "2024-10-05T19:25:53.946533Z",
     "shell.execute_reply.started": "2024-10-05T19:25:53.927315Z"
    },
    "trusted": true
   },
   "outputs": [],
   "source": [
    "# 8. Compile the model\n",
    "model.compile(optimizer='adam', loss='binary_crossentropy', metrics=['accuracy'])"
   ]
  },
  {
   "cell_type": "code",
   "execution_count": 25,
   "metadata": {
    "execution": {
     "iopub.execute_input": "2024-10-05T19:25:53.948942Z",
     "iopub.status.busy": "2024-10-05T19:25:53.948472Z",
     "iopub.status.idle": "2024-10-05T19:26:10.291052Z",
     "shell.execute_reply": "2024-10-05T19:26:10.290127Z",
     "shell.execute_reply.started": "2024-10-05T19:25:53.948898Z"
    },
    "trusted": true
   },
   "outputs": [
    {
     "name": "stdout",
     "output_type": "stream",
     "text": [
      "Epoch 1/5\n",
      "\u001b[1m1013/1013\u001b[0m \u001b[32m━━━━━━━━━━━━━━━━━━━━\u001b[0m\u001b[37m\u001b[0m \u001b[1m188s\u001b[0m 182ms/step - accuracy: 0.6851 - loss: 0.5592 - val_accuracy: 0.9195 - val_loss: 0.1882\n",
      "Epoch 2/5\n",
      "\u001b[1m1013/1013\u001b[0m \u001b[32m━━━━━━━━━━━━━━━━━━━━\u001b[0m\u001b[37m\u001b[0m \u001b[1m196s\u001b[0m 193ms/step - accuracy: 0.9741 - loss: 0.0821 - val_accuracy: 0.9368 - val_loss: 0.1674\n",
      "Epoch 3/5\n",
      "\u001b[1m1013/1013\u001b[0m \u001b[32m━━━━━━━━━━━━━━━━━━━━\u001b[0m\u001b[37m\u001b[0m \u001b[1m164s\u001b[0m 161ms/step - accuracy: 0.9964 - loss: 0.0180 - val_accuracy: 0.9210 - val_loss: 0.2606\n",
      "Epoch 4/5\n",
      "\u001b[1m1013/1013\u001b[0m \u001b[32m━━━━━━━━━━━━━━━━━━━━\u001b[0m\u001b[37m\u001b[0m \u001b[1m166s\u001b[0m 163ms/step - accuracy: 0.9955 - loss: 0.0146 - val_accuracy: 0.9402 - val_loss: 0.2829\n",
      "Epoch 5/5\n",
      "\u001b[1m1013/1013\u001b[0m \u001b[32m━━━━━━━━━━━━━━━━━━━━\u001b[0m\u001b[37m\u001b[0m \u001b[1m158s\u001b[0m 156ms/step - accuracy: 0.9989 - loss: 0.0030 - val_accuracy: 0.9417 - val_loss: 0.3729\n"
     ]
    },
    {
     "data": {
      "text/plain": [
       "<keras.src.callbacks.history.History at 0x1cfd91a2610>"
      ]
     },
     "execution_count": 25,
     "metadata": {},
     "output_type": "execute_result"
    }
   ],
   "source": [
    "# 9. Train the model\n",
    "model.fit(X_train, y_train, epochs=5, batch_size=8, validation_data=(X_test, y_test))"
   ]
  },
  {
   "cell_type": "code",
   "execution_count": 26,
   "metadata": {
    "execution": {
     "iopub.execute_input": "2024-10-05T19:26:10.292451Z",
     "iopub.status.busy": "2024-10-05T19:26:10.292143Z",
     "iopub.status.idle": "2024-10-05T19:26:10.410851Z",
     "shell.execute_reply": "2024-10-05T19:26:10.409934Z",
     "shell.execute_reply.started": "2024-10-05T19:26:10.292419Z"
    },
    "trusted": true
   },
   "outputs": [
    {
     "name": "stdout",
     "output_type": "stream",
     "text": [
      "\u001b[1m64/64\u001b[0m \u001b[32m━━━━━━━━━━━━━━━━━━━━\u001b[0m\u001b[37m\u001b[0m \u001b[1m6s\u001b[0m 100ms/step - accuracy: 0.9450 - loss: 0.3818\n",
      "Test Accuracy: 94.17%\n"
     ]
    }
   ],
   "source": [
    "# 10. Evaluate the model\n",
    "loss, accuracy = model.evaluate(X_test, y_test)\n",
    "print(f\"Test Accuracy: {accuracy * 100:.2f}%\")"
   ]
  },
  {
   "cell_type": "code",
   "execution_count": 86,
   "metadata": {
    "execution": {
     "iopub.execute_input": "2024-10-05T19:26:10.412221Z",
     "iopub.status.busy": "2024-10-05T19:26:10.411924Z",
     "iopub.status.idle": "2024-10-05T19:26:10.417990Z",
     "shell.execute_reply": "2024-10-05T19:26:10.417082Z",
     "shell.execute_reply.started": "2024-10-05T19:26:10.412189Z"
    },
    "trusted": true
   },
   "outputs": [],
   "source": [
    "# Function to highlight bad words in the sentence\n",
    "def highlight_badwords(sentence, badword_list):\n",
    "    # Find all bad words in the sentence first without nesting\n",
    "    badword_set = set()  # To store unique bad words found in the sentence\n",
    "    for word in badword_list:\n",
    "        if re.search(r'\\b' + re.escape(word) + r'\\b', sentence):\n",
    "            badword_set.add(word)\n",
    "    \n",
    "    # Replace each found bad word with tags, avoiding repeated replacements\n",
    "    for word in badword_set:\n",
    "        print(word)\n",
    "        sentence = sentence.replace(word, f\"<badword>{word}</badword>\")\n",
    "    \n",
    "    return sentence"
   ]
  },
  {
   "cell_type": "code",
   "execution_count": 87,
   "metadata": {
    "execution": {
     "iopub.execute_input": "2024-10-05T19:26:10.767108Z",
     "iopub.status.busy": "2024-10-05T19:26:10.766061Z",
     "iopub.status.idle": "2024-10-05T19:26:10.771376Z",
     "shell.execute_reply": "2024-10-05T19:26:10.770407Z",
     "shell.execute_reply.started": "2024-10-05T19:26:10.767055Z"
    },
    "trusted": true
   },
   "outputs": [],
   "source": [
    "new_test_sentence = \"तू भड़वे है, तेरी माँ की चूत!\""
   ]
  },
  {
   "cell_type": "code",
   "execution_count": 91,
   "metadata": {},
   "outputs": [],
   "source": [
    "new_test_sentence = \"मादरचोद ये फोटोशोप किया हवा हेध्यानसे देख चुतियो कुछ तो सही तरीके से करो\""
   ]
  },
  {
   "cell_type": "code",
   "execution_count": 92,
   "metadata": {
    "execution": {
     "iopub.execute_input": "2024-10-05T19:26:18.774067Z",
     "iopub.status.busy": "2024-10-05T19:26:18.773626Z",
     "iopub.status.idle": "2024-10-05T19:26:18.779162Z",
     "shell.execute_reply": "2024-10-05T19:26:18.778180Z",
     "shell.execute_reply.started": "2024-10-05T19:26:18.774027Z"
    },
    "trusted": true
   },
   "outputs": [],
   "source": [
    "# Tokenize and pad the test sentence\n",
    "max_sequence_length = 200  # Set the same max length used during training\n",
    "test_sequence = tokenizer.texts_to_sequences([new_test_sentence])\n",
    "test_sequence_padded = pad_sequences(test_sequence, maxlen=max_sequence_length)"
   ]
  },
  {
   "cell_type": "code",
   "execution_count": 93,
   "metadata": {
    "execution": {
     "iopub.execute_input": "2024-10-05T19:26:26.086818Z",
     "iopub.status.busy": "2024-10-05T19:26:26.086419Z",
     "iopub.status.idle": "2024-10-05T19:26:26.266760Z",
     "shell.execute_reply": "2024-10-05T19:26:26.265479Z",
     "shell.execute_reply.started": "2024-10-05T19:26:26.086777Z"
    },
    "trusted": true
   },
   "outputs": [
    {
     "name": "stdout",
     "output_type": "stream",
     "text": [
      "\u001b[1m1/1\u001b[0m \u001b[32m━━━━━━━━━━━━━━━━━━━━\u001b[0m\u001b[37m\u001b[0m \u001b[1m0s\u001b[0m 33ms/step\n"
     ]
    }
   ],
   "source": [
    "# Predict if it contains a bad word\n",
    "prediction = model.predict(test_sequence_padded)\n",
    "predicted_label = (prediction > 0.5).astype(int)"
   ]
  },
  {
   "cell_type": "code",
   "execution_count": 94,
   "metadata": {
    "execution": {
     "iopub.execute_input": "2024-10-05T19:26:34.265717Z",
     "iopub.status.busy": "2024-10-05T19:26:34.265310Z",
     "iopub.status.idle": "2024-10-05T19:26:34.272754Z",
     "shell.execute_reply": "2024-10-05T19:26:34.271781Z",
     "shell.execute_reply.started": "2024-10-05T19:26:34.265664Z"
    },
    "trusted": true
   },
   "outputs": [
    {
     "name": "stdout",
     "output_type": "stream",
     "text": [
      "मादरचोद\n",
      "Predicted: The sentence contains bad words.\n",
      "Highlighted: <badword>मादरचोद</badword> ये फोटोशोप किया हवा हेध्यानसे देख चुतियो कुछ तो सही तरीके से करो\n"
     ]
    }
   ],
   "source": [
    "# Output the prediction result\n",
    "if predicted_label[0][0] == 1:\n",
    "    highlighted_sentence = highlight_badwords(new_test_sentence, badwords_devanagari)\n",
    "    print(f\"Predicted: The sentence contains bad words.\\nHighlighted: {highlighted_sentence}\")\n",
    "else:\n",
    "    print(\"Predicted: The sentence does not contain bad words.\")"
   ]
  },
  {
   "cell_type": "code",
   "execution_count": 81,
   "metadata": {},
   "outputs": [
    {
     "name": "stdout",
     "output_type": "stream",
     "text": [
      "\u001b[1m1/1\u001b[0m \u001b[32m━━━━━━━━━━━━━━━━━━━━\u001b[0m\u001b[37m\u001b[0m \u001b[1m0s\u001b[0m 28ms/step\n",
      "Regex pattern: \\b(आंड़|आंड|बहनचोद|बेहेनचोद|बेहेन्का\\ लौडा|बेहेन्का\\ लौडा|बहनके\\ लौडे|बहन\\ के\\ लौडे|भेनचोद|भेनचोद|बहनचोद|बहनचोद|बकचोद|बकचोद|बकचोदी|बेवड़ा|बेवड़ा|बेवड़े|बेवड़े|बेवकूफ|बेवकूफ|बेवकूफ|बेवकूफ|बेवकूफ|बेवकूफ|भड़ुआ|भड़ुआ|भड़वा|भड़वा|भड़वा|भड़वा|भोसड़ा|भोसड़ा|भोसड़ा|भोसड़ीके|भोसड़ीके|भोसड़ीके|भोसड़ीके|भोसड़ीकी|भोसड़ीवाला|भोसड़ीवाले|भोसरचोदल|भोसदचोद|बब्बे|बब्बे|बूबे|बूबे|बुर|बुर|बुर|बुर|चरसी|चूचे|चूची|चुची|चोद|चोद|चोद|चुदने|चुदने|चुदवा|चुदवा|चुदवाने|चुदवाने|चूत|चूत|चूत|चूतिया|चुटिया|चूतिये|चुत्तड़|चूत्तड़|दलाल|दलाल|दलले|दलले|फट्टू|गधा|गधे|गधालंड|गांड|गांड|गांडू|गंडफट|गंडफट|गंडिया|गंडिये|गू|गू|गोटे|गोटे|गोटे|हग|हग्गू|हगने|हगने|हरामी|हरामजादा|हरामजादा|हरामज़ादा|हरामज़ादा|हरामजादे|हरामज़ादे|हरामखोर|हरामखोर|झाट|झाट|झाटू|झाटू|कुत्ता|कुत्ते|कुत्ते|कुतिया|कुतिया|कुतिया|कुत्ती|लेंडी|लेंडी|लोड़े|लौड़े|लौड़ा|लोड़ा|लौडा|लिंग|लोडा|लोडे|लंड|लौंडा|लौंडे|लौंडे|लौंडी|लौंडी|लौंडिया|लौंडिया|लुल्ली|मार|माँ\\ का\\ लौड़ा|माँ\\ का\\ लोडे|माँ\\ के\\ लोडे|माँ\\ के\\ लंड|मारो|मारूंगा|मादरचोद|मादरचोद|मादरचोद|मादरचूत|मादरचुत|मादरचोद|मादरचोद|मम्मे|मम्मे|मूत|मुत|मूतने|मुतने|मूठ|मुठ|नुननी|नुननु|पाजी|पाजी|पेसाब|पेसाब|पेशाब|पेशाब|पिल्ला|पिल्ले|पिल्ले|पिल्ले|पिसाब|पिसाब|पीकेएमकेबी|पोरकिस्तान|रांड|रांड|रंडी|रंडी|सुअर|टट्टे|टट्टी|टट्टी|उल्लू|आंदु|बलातकार|बलातकारी|बहन\\ चोद|बेटी\\ चोद|भड़वे|भांडवे|भंगी|भूतनी\\ के|भोसड़|भोसडी\\ के|बूबे|चक्के|चिनाअल|चिंकी|चोदु|चोदू\\ भगत|चूप|चूत\\ के\\ बाल|चूतिया|चूतिया|चुचे|चुदाप|चुदाई\\ खाना|चुदाम\\ चुदाई|चुदे|चूत\\ का\\ चूहा|चूत\\ का\\ चूरन|चूत\\ का\\ मेल|चूत\\ के\\ बाल|चूत\\ के\\ धक्कन|चूत\\ मारली|चुतड्ड|चुटान|चुटिया|गांडफैट|गांडमस्ती|गांडूफ़द|गंडफट्टू|गश्ती|गैस्टी|घासा|घस्ती|गुच्ची|गुच्चु|हरामज़ादे|हवस|हवस\\ के\\ पुजारी|हिजड़ा|हिजरा|झांट|झांट\\ चाटु|झांट\\ का\\ कीड़ा|झांट\\ के\\ बाल|झांट\\ के\\ पिस्सू|झांटू|कमीन|कमीने|कामिना|कंजर|कुत्ता\\ कमीना|कुत्ते\\ की\\ औलाद|कुत्ते\\ की\\ जाट|लोडु|लंड\\ चुनता\\ है|लंड\\ का\\ बक्कल|लंड\\ खजूर|लुंडटोपी|लंडुरे|माँ\\ की\\ चूत|माल|मादर\\ चोद|माधवचोद|मुंह\\ में\\ ले|मठ|मुथल|नजयाज़|नजयाज़\\ औलाद|नजयाज\\ पैदाईश|पाकी|पटाखा|पटाखा|रंदाप|रंडी\\ रोना|साला|साला\\ कुत्ता|साली\\ कुट्टी|साली\\ रंडी|सुअर\\ के\\ लंड|सूअर\\ की\\ औलाद|तेरी\\ माँ\\ का\\ भोसड़ा|तेरी\\ माँ\\ का\\ बोबा\\ चुसू|तेरी\\ माँ\\ की\\ बहनचोद|तेरी\\ माँ\\ की\\ चूत|थारक|थारकी|तू\\ चुदा|बाप\\ के\\ लवड़े|चोडू|चोडू|चूडू|गंदू|गंदू|गंदू|भोसड़|भोसड़ा|भोसाड़ा|भोसाड़ा|भोसड़ी|भोसडिका|भोसडिके|भोसडिके|बोसडिके|बकरीचोद|बलात्कर|बहन\\ के\\ लवड़े|बेटीचोद|भाई\\ छोड़|भाई\\ छोड़|बहन\\ छोड़|भाईनचोद|बहनचोद|बहनचोद|बहन\\ के\\ लोडे|भोसड़ी|भोसडिके|चिपकाई\\ की\\ चूत\\ के\\ पसीने|चाचा\\ छोड़|चोड\\ के\\ बाल\\ का\\ कीड़ा|चोपड़े\\ हे\\ रंडी|चुदासी|चूत\\ का\\ मेंडक|चूतिया|चूतिया|चूतिया|चूतिये|ढीली\\ चूत|चूत|चूतिया|गंद\\ चाट\\ मेरा|गंद|गंद\\ का\\ खड्डा|गंद\\ के\\ ढकन|गंद\\ में\\ कीड़ा|गंदी\\ चूत\\ में\\ सड़ता\\ हुआ\\ गंदा\\ कीड़ा|गंदमस्ती|झाट\\ के\\ बाल|झट\\ लहर\\ गया|झटू|झंटू|कुकर्चोद|कुत्ता\\ साला|कुत्ता\\ बुरा\\ ना\\ है\\ कंदा\\ नहीं\\ पटता\\ है|लोडे\\ जैसी\\ शक्ल\\ के|लोडे\\ के\\ बाल|लंड\\ खजूर|लंड\\ चूस|लंड|लंड|लुंड|मादर\\ चोड|मादरचोद|मादर|मादर|चोड|मादरचोद|मादरचोद\\ के\\ औलाद|मादर\\ चोड|मैं\\ चोड|मेरा\\ मुमे\\ ले|मेरे\\ फुडी\\ खा\\ ले|मेरी\\ गंध\\ का\\ बाल|रंडी|रंडी\\ का\\ चोड़ा|सूज़ित|सुस्‍ट\\ लंड\\ की\\ पैदाईश|टट्टी\\ अंदर\\ लेले|तेरे\\ बाप\\ की\\ गंद|तेरी\\ चूत\\ में\\ चुगली|तेरी\\ गंद\\ में\\ हाथी\\ का\\ लंड|तेरी\\ मां\\ की\\ चूत|तेरी\\ मां\\ की\\ सुखी\\ भोस|तेरी\\ फूफी\\ की\\ चूत\\ में|तेरी\\ भोसरी\\ में\\ आग|तेरी\\ गंद\\ में\\ डंडा|तेरी\\ मां\\ की\\ चूत\\ में\\ बड़ा\\ सा\\ लंड|तेरी\\ मां\\ की\\ चुदाए\\ बंदर\\ से\\ हुई|तेरी\\ मां\\ रंडी|तेरी\\ मां\\ के\\ बब्ले|तेरी\\ मां\\ के\\ भोसड़े\\ के\\ बाल|तू\\ तेरा\\ मां\\ का\\ लौड़ा|अम्मा\\ की\\ चूत|भांद\\ में\\ जाओ|भदवा|भदवे|चोदिका|भदवे\\ की\\ नस्ल|बहन\\ के\\ लोडे\\ मां\\ चुदा|भोसद\\ छोड़|भोसदचोद|भोसड़ी\\ के|भोसडी\\ के|भोसड़ी\\ के|बुल्ले\\ के\\ बाल|बुर्सुंघा|कमिना|चोड़\\ भांगड़ा|चूत\\ के\\ भूत|चूत\\ के\\ पकौड़े|चूत\\ का\\ पानी|चूत\\ का\\ पिस्सू|चूत\\ की\\ झिल्ली|चुदपागल|चूत\\ के\\ मक्खन|चूतियों|गंद\\ में\\ लोंडा|गंदी\\ फुड़ी\\ की\\ गंदी\\ औलाद|हराम\\ ज़ादा|हरामी|झाट|काला\\ लंड|काली\\ कुट्टी|कुतरी|कुत्ते|कुत्ते\\ की\\ औलाद|लवड़े\\ का\\ बाल|लवड़े|लोडू|लोड़े\\ का\\ बाल|लंड\\ के\\ लड्डू|लंड\\ मेरा\\ मुंह\\ तेरा|माँ\\-चो|माल\\ छोड़ना|माहेर\\ चोड़|मेरा\\ गोता\\ मू\\ मय\\ ले|मोम\\ का\\ पसीना\\ चाट|रंडी\\ का\\ बच्चा|रंडी\\ की\\ आंच|रंडी\\ की\\ गली|रंडी\\ की\\ मां|रंडी\\ की\\ गैंग|रंडी\\ की\\ झिल्ली|रंडी\\ के\\ लवड़े|साड़ी\\ की\\ शादी|साले\\ का\\ लंड|साले\\ के\\ लाल\\ क\\ का|तेरी\\ मां\\ की\\ चुदाई|तेरी\\ मां\\ की\\ चुदाई\\ चुदाई|तेरी\\ मां\\ का\\ अंडा|तेरी\\ मां\\ के\\ गंदे|तेरी\\ मां\\ के\\ भांजा|तेरी\\ मां\\ की\\ चुदाई|तेरी\\ मां\\ के\\ बाप|तेरी\\ मां\\ के\\ भोंडू|तेरी\\ मां\\ के\\ गाय|तेरी\\ मां\\ के\\ गंदे\\ शाला|तेरी\\ मां\\ के\\ गंदे\\ यार|तेरी\\ मां\\ की\\ गंद|तेरी\\ मां\\ की\\ गंदी\\ भाई|तेरी\\ मां\\ की\\ टट्टी|तेरी\\ साली\\ के\\ गंदे|तू\\ चुदाई\\ का\\ घाटी|तू\\ चुदी|तू\\ भाई\\ छोड़|तू\\ देखड़े|तू\\ धोखे\\ वाला|तू\\ गंदू|तू\\ गंदू|तू\\ भदवे|उधर\\ का\\ लंड|बहिनचोद)\\b\n",
      "Predicted: The sentence contains bad words: ['तेरी माँ की चूत']\n"
     ]
    }
   ],
   "source": [
    "import re\n",
    "\n",
    "def find_badwords(sentence, badword_list):\n",
    "    # Create a regular expression pattern to match all bad words\n",
    "    pattern = r'\\b(' + '|'.join(map(re.escape, badword_list)) + r')\\b'\n",
    "    print(f\"Regex pattern: {pattern}\")  # Debug output for regex pattern\n",
    "\n",
    "    # Find all bad words in the sentence\n",
    "    found_badwords = re.findall(pattern, sentence)\n",
    "    unique_badwords = set(found_badwords)  # Remove duplicates if needed\n",
    "\n",
    "    return list(unique_badwords)  # Return the list of found bad words\n",
    "\n",
    "# Example usage\n",
    "new_test_sentence = \"तू भड़वे है, तेरी माँ की चूत!\"\n",
    "  # The test sentence\n",
    "\n",
    "# Tokenize and pad the test sentence\n",
    "max_sequence_length = 200  # Set the same max length used during training\n",
    "test_sequence = tokenizer.texts_to_sequences([new_test_sentence])\n",
    "test_sequence_padded = pad_sequences(test_sequence, maxlen=max_sequence_length)\n",
    "\n",
    "# Predict if it contains a bad word\n",
    "prediction = model.predict(test_sequence_padded)\n",
    "predicted_label = (prediction > 0.5).astype(int)\n",
    "\n",
    "# Output the prediction result\n",
    "if predicted_label[0][0] == 1:\n",
    "    badwords_found = find_badwords(new_test_sentence, badwords_devanagari)\n",
    "    print(f\"Predicted: The sentence contains bad words: {badwords_found}\")\n",
    "else:\n",
    "    print(\"Predicted: The sentence does not contain bad words.\")\n"
   ]
  }
 ],
 "metadata": {
  "kaggle": {
   "accelerator": "nvidiaTeslaT4",
   "dataSources": [
    {
     "datasetId": 5822556,
     "sourceId": 9555597,
     "sourceType": "datasetVersion"
    }
   ],
   "dockerImageVersionId": 30787,
   "isGpuEnabled": true,
   "isInternetEnabled": true,
   "language": "python",
   "sourceType": "notebook"
  },
  "kernelspec": {
   "display_name": "Python 3",
   "language": "python",
   "name": "python3"
  },
  "language_info": {
   "codemirror_mode": {
    "name": "ipython",
    "version": 3
   },
   "file_extension": ".py",
   "mimetype": "text/x-python",
   "name": "python",
   "nbconvert_exporter": "python",
   "pygments_lexer": "ipython3",
   "version": "3.11.4"
  }
 },
 "nbformat": 4,
 "nbformat_minor": 4
}
