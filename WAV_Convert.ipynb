{
 "cells": [
  {
   "cell_type": "code",
   "execution_count": 1,
   "metadata": {},
   "outputs": [
    {
     "name": "stdout",
     "output_type": "stream",
     "text": [
      "Converted TempData\\Audio_0.mp3 to TempConvert\\Audio_0.wav\n",
      "Converted TempData\\Audio_1.mp3 to TempConvert\\Audio_1.wav\n",
      "Converted TempData\\Audio_2.mp3 to TempConvert\\Audio_2.wav\n",
      "Converted TempData\\Audio_3.mp3 to TempConvert\\Audio_3.wav\n",
      "Converted TempData\\Audio_4.mp3 to TempConvert\\Audio_4.wav\n"
     ]
    }
   ],
   "source": [
    "import os\n",
    "import subprocess\n",
    "\n",
    "def convert_mp3_folder_to_wav(input_folder, output_folder):\n",
    "    os.makedirs(output_folder, exist_ok=True)\n",
    "\n",
    "    for filename in os.listdir(input_folder):\n",
    "        if filename.lower().endswith('.mp3'):\n",
    "            mp3_file = os.path.join(input_folder, filename)\n",
    "            wav_file = os.path.join(output_folder, os.path.splitext(filename)[0] + '.wav')\n",
    "            try:\n",
    "                subprocess.run(['ffmpeg', '-i', mp3_file, '-ac', '1', '-ar', '16000', wav_file], check=True)\n",
    "                print(f\"Converted {mp3_file} to {wav_file}\")\n",
    "            except subprocess.CalledProcessError as e:\n",
    "                print(f\"Error converting {mp3_file}: {e}\")\n",
    "\n",
    "convert_mp3_folder_to_wav(r'TempData', r'TempConvert')\n"
   ]
  }
 ],
 "metadata": {
  "kernelspec": {
   "display_name": "Python 3",
   "language": "python",
   "name": "python3"
  },
  "language_info": {
   "codemirror_mode": {
    "name": "ipython",
    "version": 3
   },
   "file_extension": ".py",
   "mimetype": "text/x-python",
   "name": "python",
   "nbconvert_exporter": "python",
   "pygments_lexer": "ipython3",
   "version": "3.11.4"
  }
 },
 "nbformat": 4,
 "nbformat_minor": 2
}
