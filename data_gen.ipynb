{
 "cells": [
  {
   "cell_type": "code",
   "execution_count": 20,
   "metadata": {},
   "outputs": [],
   "source": [
    "from gtts import gTTS\n",
    "from langdetect import detect"
   ]
  },
  {
   "cell_type": "code",
   "execution_count": 33,
   "metadata": {},
   "outputs": [],
   "source": [
    "import pandas as pd\n",
    "bad_word_df = pd.read_csv(r'D:\\New folder\\CODDING STUFF\\Sem 5\\DL_NLP_WMAD_Project\\BadWordList.csv')"
   ]
  },
  {
   "cell_type": "code",
   "execution_count": 41,
   "metadata": {},
   "outputs": [],
   "source": [
    "def extract_bad_words(text, bad_word_df):\n",
    "    bad_words_found = []\n",
    "    # Check for bad words in both Devanagari and Transliteration columns\n",
    "    for _, row in bad_word_df.iterrows():\n",
    "        # Check if the text contains either the Devanagari script or the Hinglish transliteration\n",
    "        if row['Devanagari'] in text or row['Transliteration'] in text:\n",
    "            # Append the bad word found (Devanagari or Transliteration)\n",
    "            bad_words_found.append(row['Devanagari'] if row['Devanagari'] in text else row['Transliteration'])\n",
    "    return bad_words_found"
   ]
  },
  {
   "cell_type": "code",
   "execution_count": 42,
   "metadata": {},
   "outputs": [],
   "source": [
    "line_list = [\"Mujhe thoda paani chahiye.\",\n",
    "            \"Tumhara kaam ma chudae\" ]"
   ]
  },
  {
   "cell_type": "code",
   "execution_count": 46,
   "metadata": {},
   "outputs": [],
   "source": [
    "# List of lines to be processed\n",
    "line_list = [\"नमस्ते, यह हिंदी टेक्स्ट टू स्पीच डेमो है।\", \n",
    "             \"तुम बहुत चुटिया हो।\", \n",
    "             \"तेरी रंडी माँ की चूत\",\"Tum bahut chutiya ho.\", \n",
    "             \"Teri randi maa ki choot\"]\n",
    "\n"
   ]
  },
  {
   "cell_type": "code",
   "execution_count": 47,
   "metadata": {},
   "outputs": [
    {
     "name": "stdout",
     "output_type": "stream",
     "text": [
      "No bad words found.\n",
      "Bad words found: ['चुटिया', 'चुटिया']\n",
      "Bad words found: ['चूत', 'चूत', 'चूत', 'रंडी', 'रंडी', 'माँ की चूत']\n",
      "Bad words found: ['chut', 'chutiya', 'chutiy']\n",
      "Bad words found: ['choot', 'rand', 'randi']\n"
     ]
    }
   ],
   "source": [
    "for lines in line_list:\n",
    "    bad_words = extract_bad_words(lines, bad_word_df)\n",
    "    if bad_words:\n",
    "        print(f\"Bad words found: {bad_words}\")\n",
    "    else:\n",
    "        print(\"No bad words found.\")"
   ]
  },
  {
   "cell_type": "code",
   "execution_count": 36,
   "metadata": {},
   "outputs": [
    {
     "name": "stdout",
     "output_type": "stream",
     "text": [
      "Annotated text: नमस्ते, यह हिंदी टेक्स्ट टू स्पीच डेमो है।\n",
      "Annotated text: तुम बहुत <bad_word><bad_word>चुटिया</bad_word></bad_word> हो।\n",
      "Annotated text: तेरी <bad_word><bad_word>रंडी</bad_word></bad_word> माँ की <bad_word><bad_word><bad_word>चूत</bad_word></bad_word></bad_word>\n"
     ]
    }
   ],
   "source": []
  },
  {
   "cell_type": "code",
   "execution_count": 30,
   "metadata": {},
   "outputs": [],
   "source": [
    "audio_number = 1\n",
    "for lines in line_list:\n",
    "    text = lines\n",
    "    tts = gTTS(text=text, lang='hi')\n",
    "    tts.save(f\"D:\\\\New folder\\\\CODDING STUFF\\\\Sem 5\\\\DL_NLP_WMAD_Project\\\\Audio_{audio_number}.mp3\")\n",
    "    audio_number += 1"
   ]
  },
  {
   "cell_type": "code",
   "execution_count": 48,
   "metadata": {},
   "outputs": [],
   "source": [
    "dataset_df = pd.read_csv(r'D:\\New folder\\CODDING STUFF\\Sem 5\\DL_NLP_WMAD_Project\\try.csv')"
   ]
  },
  {
   "cell_type": "code",
   "execution_count": 49,
   "metadata": {},
   "outputs": [],
   "source": [
    "# Function to annotate bad words in the text\n",
    "def annotate_bad_words(text, bad_word_df):\n",
    "    annotated_text = text\n",
    "    # Check for bad words in both Devanagari and Transliteration columns\n",
    "    for _, row in bad_word_df.iterrows():\n",
    "        # Replace any found bad words in the text with an annotation\n",
    "        if row['Devanagari'] in text:\n",
    "            annotated_text = annotated_text.replace(row['Devanagari'], f\"<bad_word>{row['Devanagari']}</bad_word>\")\n",
    "        if row['Transliteration'] in text:\n",
    "            annotated_text = annotated_text.replace(row['Transliteration'], f\"<bad_word>{row['Transliteration']}</bad_word>\")\n",
    "    return annotated_text"
   ]
  },
  {
   "cell_type": "code",
   "execution_count": 60,
   "metadata": {},
   "outputs": [],
   "source": [
    "# Function to extract bad words from the text\n",
    "def extract_bad_words(text, bad_word_df):\n",
    "    bad_words_found = []\n",
    "    # Check for bad words in both Devanagari and Transliteration columns\n",
    "    for _, row in bad_word_df.iterrows():\n",
    "        if row['Devanagari'] in text or row['Transliteration'] in text:\n",
    "            # Append the bad word found (Devanagari or Transliteration)\n",
    "            bad_words_found.append(row['Devanagari'] if row['Devanagari'] in text else row['Transliteration'])\n",
    "    return bad_words_found"
   ]
  },
  {
   "cell_type": "code",
   "execution_count": 54,
   "metadata": {},
   "outputs": [],
   "source": [
    "# Apply the bad word extraction function to the 'Filtered Sentences' column\n",
    "dataset_df['Annotated Sentences'] = dataset_df['Filtered Sentences'].apply(lambda x: extract_bad_words(x, bad_word_df))"
   ]
  },
  {
   "cell_type": "code",
   "execution_count": 61,
   "metadata": {},
   "outputs": [],
   "source": [
    "# Apply the bad word extraction function to the 'Filtered Sentences' column\n",
    "dataset_df['Annotated Sentences'] = dataset_df['Filtered Sentences'].apply(lambda x: extract_bad_words(x, bad_word_df))\n"
   ]
  },
  {
   "cell_type": "code",
   "execution_count": 51,
   "metadata": {},
   "outputs": [],
   "source": [
    "# Save the annotated dataset to a new CSV file\n",
    "output_path = 'path_to_save_annotated_dataset.csv'\n",
    "dataset_df.to_csv(output_path, index=False)"
   ]
  },
  {
   "cell_type": "code",
   "execution_count": 52,
   "metadata": {},
   "outputs": [
    {
     "name": "stdout",
     "output_type": "stream",
     "text": [
      "Annotated dataset saved to path_to_save_annotated_dataset.csv\n"
     ]
    }
   ],
   "source": [
    "print(f\"Annotated dataset saved to {output_path}\")"
   ]
  },
  {
   "cell_type": "code",
   "execution_count": 56,
   "metadata": {},
   "outputs": [
    {
     "name": "stdout",
     "output_type": "stream",
     "text": [
      "Annotated dataset saved to annotated_bad_words.csv\n"
     ]
    }
   ],
   "source": [
    "# Save the annotated dataset with only the bad words extracted\n",
    "output_path = 'annotated_bad_words.csv'\n",
    "dataset_df.to_csv(output_path, index=False)\n",
    "print(f\"Annotated dataset saved to {output_path}\")"
   ]
  }
 ],
 "metadata": {
  "kernelspec": {
   "display_name": "Python 3",
   "language": "python",
   "name": "python3"
  },
  "language_info": {
   "codemirror_mode": {
    "name": "ipython",
    "version": 3
   },
   "file_extension": ".py",
   "mimetype": "text/x-python",
   "name": "python",
   "nbconvert_exporter": "python",
   "pygments_lexer": "ipython3",
   "version": "3.11.4"
  }
 },
 "nbformat": 4,
 "nbformat_minor": 2
}
