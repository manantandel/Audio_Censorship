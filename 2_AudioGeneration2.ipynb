{
 "cells": [
  {
   "cell_type": "code",
   "execution_count": 2,
   "metadata": {},
   "outputs": [],
   "source": [
    "import pyttsx3\n",
    "import random\n",
    "from gtts import gTTS\n",
    "import pandas as pd"
   ]
  },
  {
   "cell_type": "code",
   "execution_count": 2,
   "metadata": {},
   "outputs": [],
   "source": [
    "pyttsx = 0\n",
    "gtts = 0\n",
    "def generate_audio(text, audio_number):\n",
    "    global pyttsx, gtts\n",
    "    if random.choice([True, False]):\n",
    "        engine = pyttsx3.init()\n",
    "        voice_choice = random.choice([1,2])\n",
    "        voices = engine.getProperty('voices')\n",
    "        \n",
    "        engine.setProperty('voice', voices[voice_choice].id)\n",
    "        engine.setProperty('rate', random.randint(150, 250))\n",
    "        engine.setProperty('volume', random.uniform(0.7, 1.0))\n",
    "        \n",
    "        engine.save_to_file(text, f\"Audio_Data/Audio_{audio_number}.mp3\")\n",
    "        engine.runAndWait()\n",
    "        pyttsx += 1\n",
    "    else:\n",
    "        tts = gTTS(text=text, lang='hi')  # Use Hindi language\n",
    "        tts.save(f\"Audio_Data/Audio_{audio_number}.mp3\")\n",
    "        gtts += 1"
   ]
  },
  {
   "cell_type": "code",
   "execution_count": 3,
   "metadata": {},
   "outputs": [],
   "source": [
    "data = pd.read_csv(\"CleanedFile.csv\")"
   ]
  },
  {
   "cell_type": "code",
   "execution_count": 4,
   "metadata": {},
   "outputs": [],
   "source": [
    "data.dropna(inplace=True)"
   ]
  },
  {
   "cell_type": "code",
   "execution_count": 5,
   "metadata": {},
   "outputs": [],
   "source": [
    "l1 = data['Filtered Sentences'].to_list()"
   ]
  },
  {
   "cell_type": "code",
   "execution_count": 10,
   "metadata": {},
   "outputs": [
    {
     "name": "stdout",
     "output_type": "stream",
     "text": [
      "वीडियो बनाने के चक्कर में जान और गांड से दोनों से चला जाता\n"
     ]
    }
   ],
   "source": [
    "l2 = l1[2501:5000]\n",
    "print(l2[-1])"
   ]
  },
  {
   "cell_type": "code",
   "execution_count": null,
   "metadata": {},
   "outputs": [],
   "source": [
    "audio_number = 2501\n",
    "for lines in l2:\n",
    "    generate_audio(lines, audio_number)\n",
    "    audio_number += 1"
   ]
  },
  {
   "cell_type": "code",
   "execution_count": null,
   "metadata": {},
   "outputs": [
    {
     "name": "stdout",
     "output_type": "stream",
     "text": [
      "1998 1983\n"
     ]
    }
   ],
   "source": [
    "print(pyttsx, gtts)"
   ]
  }
 ],
 "metadata": {
  "kernelspec": {
   "display_name": "Python 3",
   "language": "python",
   "name": "python3"
  },
  "language_info": {
   "codemirror_mode": {
    "name": "ipython",
    "version": 3
   },
   "file_extension": ".py",
   "mimetype": "text/x-python",
   "name": "python",
   "nbconvert_exporter": "python",
   "pygments_lexer": "ipython3",
   "version": "3.11.4"
  }
 },
 "nbformat": 4,
 "nbformat_minor": 2
}
